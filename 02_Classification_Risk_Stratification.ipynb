{
 "cells": [
  {
   "cell_type": "markdown",
   "id": "1dc523cd",
   "metadata": {},
   "source": [
    "# HealthAI - Multiclass Risk Stratification\n",
    "\n",
    "This notebook loads CSVs from the current folder (no ZIPs/subfolders),\n",
    "builds a **multiclass** label from ICD codes (0=other, 1=diabetes, 2=hypertension, 3=CKD),\n",
    "engineers features (labs, Rx, EMAR, demographics), and trains **Logistic Regression (multinomial)**,\n",
    "**XGBoost (multi:softprob)**, and **MLP** with robust metrics.\n"
   ]
  },
  {
   "cell_type": "code",
   "execution_count": null,
   "id": "4dfd7d5e",
   "metadata": {},
   "outputs": [],
   "source": [
    "import os, re, warnings\n",
    "import numpy as np\n",
    "import pandas as pd\n",
    "import matplotlib.pyplot as plt\n",
    "import plotly.express as px\n",
    "import pickle\n",
    "\n",
    "from functools import reduce\n",
    "from sklearn.compose import ColumnTransformer\n",
    "from sklearn.preprocessing import OneHotEncoder, StandardScaler\n",
    "from sklearn.pipeline import Pipeline\n",
    "from sklearn.linear_model import LogisticRegression\n",
    "from sklearn.neural_network import MLPClassifier\n",
    "from xgboost import XGBClassifier\n",
    "from sklearn.metrics import (\n",
    "    accuracy_score, f1_score, precision_score, recall_score,\n",
    "    roc_auc_score, classification_report, confusion_matrix\n",
    ")\n",
    "from scipy.stats import loguniform\n",
    "from sklearn.utils.class_weight import compute_class_weight\n",
    "from sklearn.base import BaseEstimator, TransformerMixin\n",
    "\n",
    "# imbalanced-learn\n",
    "from imblearn.over_sampling import SMOTE\n",
    "from imblearn.pipeline import Pipeline as ImbPipeline\n",
    "\n",
    "warnings.filterwarnings(\"ignore\")\n",
    "pd.set_option(\"display.max_columns\", 120)\n",
    "plt.rcParams[\"figure.figsize\"] = (8,5)\n",
    "\n",
    "# -----------------------------\n",
    "# Helpers\n",
    "# -----------------------------\n",
    "def find_one_any(paths):\n",
    "    for p in paths:\n",
    "        if os.path.exists(p):\n",
    "            return p\n",
    "    return None\n",
    "\n",
    "def read_csv_auto(path, **kw):\n",
    "    if path is None:\n",
    "        return None\n",
    "    return pd.read_csv(path, low_memory=False, **kw)\n",
    "\n",
    "def _coerce_int64_nullable(df, cols):\n",
    "    if df is None:\n",
    "        return df\n",
    "    df = df.copy()\n",
    "    for c in cols:\n",
    "        if c in df.columns:\n",
    "            df[c] = pd.to_numeric(df[c], errors=\"coerce\").astype(\"Int64\")\n",
    "    return df\n",
    "\n",
    "def _dedup_on(df, key):\n",
    "    if df is None or key not in df.columns:\n",
    "        return df\n",
    "    return df.drop_duplicates(subset=[key]).copy()\n",
    "\n",
    "def _norm_icd_version(series):\n",
    "    s = pd.Series(series).astype(str).str.extract(r'(\\d+)', expand=False)\n",
    "    return pd.to_numeric(s, errors=\"coerce\").astype(\"Int64\")\n",
    "\n",
    "def compute_age_at_admit(admittime, anchor_year, anchor_age):\n",
    "    y = pd.to_datetime(admittime).dt.year\n",
    "    return (anchor_age + (y - anchor_year)).clip(lower=0)\n",
    "\n",
    "def collapse_duplicate_columns(df_in):\n",
    "    cols = pd.Index(df_in.columns)\n",
    "    if not cols.has_duplicates:\n",
    "        return df_in\n",
    "    out = {}\n",
    "    for col in cols.unique():\n",
    "        sub = df_in.loc[:, df_in.columns == col]\n",
    "        out[col] = sub.iloc[:, 0] if sub.shape[1] == 1 else sub.mean(axis=1, skipna=True)\n",
    "    newdf = pd.DataFrame(out, index=df_in.index)\n",
    "    ordered = [c for c in [\"hadm_id\",\"subject_id\"] if c in newdf.columns]\n",
    "    ordered += [c for c in newdf.columns if c not in ordered]\n",
    "    return newdf[ordered]\n",
    "\n",
    "def plot_class_dist(y, title):\n",
    "    vc = y.value_counts().sort_index()\n",
    "    ax = vc.plot(kind=\"bar\")\n",
    "    plt.title(title); plt.xlabel(\"Class label\"); plt.ylabel(\"Count\")\n",
    "    for i, v in enumerate(vc.values):\n",
    "        ax.text(i, v, str(int(v)), ha=\"center\", va=\"bottom\", fontsize=9)\n",
    "    plt.tight_layout(); plt.show()\n",
    "\n",
    "# picklable categorical-to-string transformer (replaces lambda FunctionTransformer)\n",
    "class ToStr(BaseEstimator, TransformerMixin):\n",
    "    def fit(self, X, y=None): \n",
    "        return self\n",
    "    def transform(self, X):\n",
    "        if isinstance(X, pd.DataFrame):\n",
    "            return X.fillna(\"NA\").astype(str).to_numpy()\n",
    "        return pd.DataFrame(X).fillna(\"NA\").astype(str).to_numpy()\n",
    "\n",
    "# Optional cost emphasis per class\n",
    "COST_WEIGHTS = { }   # e.g., {2: 2.0}\n",
    "\n",
    "def make_models(n_classes, is_multiclass):\n",
    "    if is_multiclass:\n",
    "        return {\n",
    "            \"LogReg\": LogisticRegression(\n",
    "                max_iter=3000, class_weight=None,\n",
    "                multi_class=\"multinomial\", solver=\"lbfgs\"\n",
    "            ),\n",
    "            \"XGB\": XGBClassifier(\n",
    "                n_estimators=500, max_depth=6, learning_rate=0.05,\n",
    "                subsample=0.85, colsample_bytree=0.85, tree_method=\"hist\",\n",
    "                objective=\"multi:softprob\", num_class=n_classes,\n",
    "                eval_metric=\"mlogloss\", random_state=42\n",
    "            ),\n",
    "            \"MLP\": MLPClassifier(\n",
    "                hidden_layer_sizes=(512,128),\n",
    "                max_iter=250, learning_rate_init=5e-4, random_state=42\n",
    "            )\n",
    "        }\n",
    "    else:\n",
    "        return {\n",
    "            \"LogReg\": LogisticRegression(max_iter=3000, class_weight=\"balanced\"),\n",
    "            \"XGB\": XGBClassifier(\n",
    "                n_estimators=500, max_depth=6, learning_rate=0.05,\n",
    "                subsample=0.85, colsample_bytree=0.85, tree_method=\"hist\",\n",
    "                eval_metric=\"logloss\", random_state=42\n",
    "            ),\n",
    "            \"MLP\": MLPClassifier(\n",
    "                hidden_layer_sizes=(512,128),\n",
    "                max_iter=200, learning_rate_init=5e-4, random_state=42\n",
    "            )\n",
    "        }"
   ]
  },
  {
   "cell_type": "code",
   "execution_count": 3,
   "id": "d703fe84",
   "metadata": {},
   "outputs": [
    {
     "name": "stdout",
     "output_type": "stream",
     "text": [
      "Using DATA_BASE: D:/HealthAI Project/data\n"
     ]
    }
   ],
   "source": [
    "# -----------------------------------------------------------------------\n",
    "# Project-wide dataset base (Windows path provided by user)\n",
    "# -----------------------------------------------------------------------\n",
    "import glob\n",
    "DATA_BASE = r\"D:/HealthAI Project/data\"\n",
    "\n",
    "def _glob_rel(rel_pattern):\n",
    "    pat = os.path.join(DATA_BASE, \"**\", rel_pattern)\n",
    "    return glob.glob(pat, recursive=True)\n",
    "\n",
    "def _ci_filename_search(basenames):\n",
    "    hits = []\n",
    "    for root, _, files in os.walk(DATA_BASE):\n",
    "        lowfiles = [f.lower() for f in files]\n",
    "        for name in basenames:\n",
    "            name_low = name.lower()\n",
    "            for i,f in enumerate(lowfiles):\n",
    "                if f == name_low:\n",
    "                    hits.append(os.path.join(root, files[i]))\n",
    "    return hits\n",
    "\n",
    "def find_one_any(rel_candidates, must=False, friendly=\"\"):\n",
    "    for rel in rel_candidates:\n",
    "        hits = _glob_rel(rel)\n",
    "        if hits:\n",
    "            print(\"[found] %s -> %s\" % (rel, hits[0]))\n",
    "            return hits[0]\n",
    "    basenames = [os.path.basename(r) for r in rel_candidates]\n",
    "    ci_hits = _ci_filename_search(basenames)\n",
    "    if ci_hits:\n",
    "        print(\"[found-ci] one of %s -> %s\" % (basenames, ci_hits[0]))\n",
    "        return ci_hits[0]\n",
    "    if must:\n",
    "        msg = \"Could not find: %s under DATA_BASE=%s. Tried candidates=%s\" % (friendly or str(rel_candidates), DATA_BASE, rel_candidates)\n",
    "        raise FileNotFoundError(msg)\n",
    "    return None\n",
    "\n",
    "def read_csv_auto(path):\n",
    "    comp = \"gzip\" if str(path).lower().endswith(\".gz\") else None\n",
    "    return pd.read_csv(path, compression=comp, low_memory=False)\n",
    "\n",
    "print(\"Using DATA_BASE:\", DATA_BASE)"
   ]
  },
  {
   "cell_type": "code",
   "execution_count": 4,
   "id": "e80e5e62",
   "metadata": {},
   "outputs": [
    {
     "name": "stdout",
     "output_type": "stream",
     "text": [
      "[found] patients.csv -> D:/HealthAI Project/data\\MIMIC IV\\patients.csv\n",
      "[found] admissions_clean.csv -> D:/HealthAI Project/data\\MIMIC IV\\admissions_clean.csv\n",
      "[found] diagnoses_icd.csv -> D:/HealthAI Project/data\\MIMIC IV\\diagnoses_icd.csv\n",
      "[found] d_icd_diagnoses.csv -> D:/HealthAI Project/data\\MIMIC IV\\d_icd_diagnoses.csv\n",
      "[found] d_labitems.csv -> D:/HealthAI Project/data\\MIMIC IV\\d_labitems.csv\n",
      "[found] labevents.csv -> D:/HealthAI Project/data\\MIMIC IV\\labevents.csv\n",
      "[found] prescriptions.csv -> D:/HealthAI Project/data\\MIMIC IV\\prescriptions.csv\n",
      "[found] emar.csv -> D:/HealthAI Project/data\\MIMIC IV\\emar.csv\n",
      "[found] vitalsign.csv -> D:/HealthAI Project/data\\MIMIC IV\\vitalsign.csv\n",
      "Found files:\n",
      "  patients         -> D:/HealthAI Project/data\\MIMIC IV\\patients.csv\n",
      "  admissions_clean -> D:/HealthAI Project/data\\MIMIC IV\\admissions_clean.csv\n",
      "  diagnoses_icd    -> D:/HealthAI Project/data\\MIMIC IV\\diagnoses_icd.csv\n",
      "  d_icd_diagnoses  -> D:/HealthAI Project/data\\MIMIC IV\\d_icd_diagnoses.csv\n",
      "  d_labitems       -> D:/HealthAI Project/data\\MIMIC IV\\d_labitems.csv\n",
      "  labevents        -> D:/HealthAI Project/data\\MIMIC IV\\labevents.csv\n",
      "  prescriptions    -> D:/HealthAI Project/data\\MIMIC IV\\prescriptions.csv\n",
      "  emar             -> D:/HealthAI Project/data\\MIMIC IV\\emar.csv\n",
      "  vitals           -> D:/HealthAI Project/data\\MIMIC IV\\vitalsign.csv\n"
     ]
    }
   ],
   "source": [
    "# -----------------------------\n",
    "# Discover CSVs\n",
    "# -----------------------------\n",
    "pat_p  = find_one_any([\"patients.csv\"])\n",
    "adm_p  = find_one_any([\"admissions_clean.csv\"])\n",
    "dx_p   = find_one_any([\"diagnoses_icd.csv\"])\n",
    "dxd_p  = find_one_any([\"d_icd_diagnoses.csv\"])\n",
    "dlab_p = find_one_any([\"d_labitems.csv\"])\n",
    "labs_p = find_one_any([\"labevents.csv\"])\n",
    "rx_p   = find_one_any([\"prescriptions.csv\"])\n",
    "em_p   = find_one_any([\"emar.csv\"])\n",
    "\n",
    "# extra sources (optional)\n",
    "vitals_p = find_one_any([\"vitalsign.csv\"])\n",
    "\n",
    "print('Found files:')\n",
    "for k,v in {\"patients\":pat_p,\"admissions_clean\":adm_p,\"diagnoses_icd\":dx_p,\"d_icd_diagnoses\":dxd_p,\n",
    "            \"d_labitems\":dlab_p,\"labevents\":labs_p,\"prescriptions\":rx_p,\"emar\":em_p,\n",
    "            \"vitals\":vitals_p}.items():\n",
    "    print(f\"  {k:16s} -> {v}\")\n",
    "\n",
    "if adm_p is None:\n",
    "    raise FileNotFoundError(\"admissions_clean CSV not found (admissions_clean.csv).\")\n",
    "\n",
    "# -----------------------------\n",
    "# Load + base\n",
    "# -----------------------------\n",
    "pat = read_csv_auto(pat_p)\n",
    "adm = read_csv_auto(adm_p)\n",
    "\n",
    "for c in [\"admittime\",\"dischtime\"]:\n",
    "    if c in adm.columns:\n",
    "        adm[c] = pd.to_datetime(adm[c], errors=\"coerce\")\n",
    "if {\"admittime\",\"dischtime\"}.issubset(adm.columns):\n",
    "    adm[\"los_days\"] = (adm[\"dischtime\"] - adm[\"admittime\"]).dt.total_seconds()/86400.0\n",
    "\n",
    "keep_cols = [c for c in [\"subject_id\",\"hadm_id\",\"admittime\",\"dischtime\",\"insurance\",\"language\",\"los_days\"] if c in adm.columns]\n",
    "adm = adm[keep_cols]\n",
    "\n",
    "if pat is not None:\n",
    "    if \"sex\" not in pat.columns and \"gender\" in pat.columns:\n",
    "        pat = pat.rename(columns={\"gender\":\"sex\"})\n",
    "\n",
    "if pat is not None and {\"subject_id\",\"anchor_year\",\"anchor_age\",\"sex\"}.issubset(pat.columns):\n",
    "    base = adm.merge(pat[[\"subject_id\",\"anchor_year\",\"anchor_age\",\"sex\"]], on=\"subject_id\", how=\"left\")\n",
    "else:\n",
    "    base = adm.copy()\n",
    "\n",
    "if {\"admittime\",\"anchor_year\",\"anchor_age\"}.issubset(base.columns):\n",
    "    base[\"age_at_admit\"] = compute_age_at_admit(base[\"admittime\"], base[\"anchor_year\"], base[\"anchor_age\"])\n",
    "\n",
    "# -----------------------------\n",
    "# Labs — expanded set\n",
    "# -----------------------------\n",
    "wide = None\n",
    "if dlab_p and labs_p:\n",
    "    dlab = read_csv_auto(dlab_p)\n",
    "    labs = read_csv_auto(labs_p)\n",
    "    if dlab is not None and labs is not None and {\"itemid\",\"label\"}.issubset(dlab.columns):\n",
    "        dlab[\"label_l\"] = dlab[\"label\"].astype(str).str.lower()\n",
    "        keep = dlab[dlab[\"label_l\"].str.contains(\n",
    "            \"glucose|creatinine|hemoglobin|hematocrit|platelet|wbc|white blood|albumin|bilirubin|lactate|bun|urea|sodium|potassium|chloride|bicarbonate|na\\\\b|k\\\\b|cl\\\\b|hco3\",\n",
    "            regex=True, na=False)]\n",
    "        if {\"hadm_id\",\"itemid\",\"valuenum\"}.issubset(labs.columns):\n",
    "            labs = labs[[\"hadm_id\",\"itemid\",\"valuenum\"]].dropna()\n",
    "            labs = labs[labs[\"itemid\"].isin(keep[\"itemid\"])]\n",
    "            ag = labs.groupby([\"hadm_id\",\"itemid\"])[\"valuenum\"].mean().reset_index()\n",
    "            label_map = dict(zip(keep[\"itemid\"], keep[\"label\"].str.lower().str.replace(r\"\\s+\",\"_\", regex=True)))\n",
    "            wide = ag.pivot(index=\"hadm_id\", columns=\"itemid\", values=\"valuenum\").rename_axis(None, axis=1).reset_index()\n",
    "            wide.columns = [\"hadm_id\"] + [f\"lab_{label_map.get(c,str(c))}_mean\" for c in wide.columns[1:]]\n",
    "\n",
    "# -----------------------------\n",
    "# Vitals (optional; robust to different column names)\n",
    "# -----------------------------\n",
    "vitalsw = None\n",
    "if vitals_p:\n",
    "    vit = read_csv_auto(vitals_p)\n",
    "    if vit is not None and \"hadm_id\" in vit.columns:\n",
    "        rename_map = {\n",
    "            \"hr\":\"heart_rate\",\"heartrate\":\"heart_rate\",\"heart rate\":\"heart_rate\",\n",
    "            \"sbp\":\"sbp\",\"systolic_bp\":\"sbp\",\"systolic blood pressure\":\"sbp\",\n",
    "            \"dbp\":\"dbp\",\"diastolic_bp\":\"dbp\",\"diastolic blood pressure\":\"dbp\",\n",
    "            \"map\":\"map\",\"mean arterial pressure\":\"map\",\n",
    "            \"rr\":\"resp_rate\",\"respiratory_rate\":\"resp_rate\",\"resp rate\":\"resp_rate\",\n",
    "            \"temp\":\"temperature\",\"temperature c\":\"temperature\",\"temperature_f\":\"temperature\",\n",
    "            \"spo2\":\"spo2\",\"o2sat\":\"spo2\",\"oxygen_saturation\":\"spo2\"\n",
    "        }\n",
    "        lowcols = {c: c.lower() for c in vit.columns}\n",
    "        vit = vit.rename(columns={orig: rename_map.get(low, low) for orig, low in lowcols.items()})\n",
    "        keep_v = [c for c in [\"heart_rate\",\"sbp\",\"dbp\",\"map\",\"resp_rate\",\"temperature\",\"spo2\"] if c in vit.columns]\n",
    "        cols = [\"hadm_id\"] + keep_v\n",
    "        vit = vit[cols].copy()\n",
    "        vit_agg = vit.groupby(\"hadm_id\")[keep_v].mean().reset_index()\n",
    "        vit_agg.columns = [\"hadm_id\"] + [f\"vital_{c}_mean\" for c in keep_v]\n",
    "        vitalsw = vit_agg\n",
    "\n",
    "# -----------------------------\n",
    "# Rx wide\n",
    "# -----------------------------\n",
    "rxw = None\n",
    "rx_p = rx_p\n",
    "if rx_p:\n",
    "    rx = read_csv_auto(rx_p)\n",
    "    if rx is not None:\n",
    "        cols = [c for c in [\"hadm_id\",\"drug\",\"gsn\"] if c in rx.columns]\n",
    "        rx = rx[cols]\n",
    "        rx[\"drug\"] = rx[\"drug\"].astype(str)\n",
    "        if \"gsn\" in rx.columns:\n",
    "            rx[\"gsn\"] = rx[\"gsn\"].astype(str)\n",
    "        rxf = rx.groupby(\"hadm_id\").agg(rx_count=(\"drug\",\"count\"), rx_unique=(\"drug\",\"nunique\")).reset_index()\n",
    "        keys={\"rx_insulin\":[\"insulin\"], \"rx_metformin\":[\"metformin\"],\n",
    "              \"rx_statin\":[\"atorvastatin\",\"rosuvastatin\",\"simvastatin\",\"pravastatin\",\"lovastatin\"]}\n",
    "        rows2=[]\n",
    "        for hadm,g in rx.groupby(\"hadm_id\"):\n",
    "            text=(\" \".join(g[\"drug\"])+\" \"+ \" \".join(g[\"gsn\"] if \"gsn\" in g.columns else [])).lower()\n",
    "            rows2.append({\"hadm_id\":hadm, **{k:int(any(kw in text for kw in kws)) for k,kws in keys.items()}})\n",
    "        rxw = pd.merge(rxf, pd.DataFrame(rows2), on=\"hadm_id\", how=\"left\").fillna(0)\n",
    "\n",
    "# -----------------------------\n",
    "# EMAR wide\n",
    "# -----------------------------\n",
    "emw = None\n",
    "if em_p:\n",
    "    em = read_csv_auto(em_p)\n",
    "    if em is not None and {\"hadm_id\",\"medication\"}.issubset(em.columns):\n",
    "        em = em[[\"hadm_id\",\"medication\"]]\n",
    "        em[\"medication\"]=em[\"medication\"].astype(str).str.lower()\n",
    "        emf = em.groupby(\"hadm_id\").agg(emar_admin_count=(\"medication\",\"count\")).reset_index()\n",
    "        emi = em.groupby(\"hadm_id\")[\"medication\"].apply(lambda s: int(any(\"insulin\" in x for x in s))).reset_index(name=\"emar_insulin\")\n",
    "        emw = emf.merge(emi, on=\"hadm_id\", how=\"left\").fillna(0)"
   ]
  },
  {
   "cell_type": "code",
   "execution_count": 5,
   "id": "07ab5064",
   "metadata": {},
   "outputs": [
    {
     "name": "stdout",
     "output_type": "stream",
     "text": [
      "labels_multi built: True\n"
     ]
    }
   ],
   "source": [
    "# -----------------------------\n",
    "# ICD merge -> labels + diag groups\n",
    "# 0 = other, 1 = diabetes, 2 = hypertension, 3 = CKD\n",
    "# -----------------------------\n",
    "labels_multi = None\n",
    "diag_groups = None\n",
    "if dx_p and dxd_p:\n",
    "    d     = read_csv_auto(dx_p)\n",
    "    dictd = read_csv_auto(dxd_p)\n",
    "    if d is not None and dictd is not None and {\"icd_code\",\"icd_version\"}.issubset(d.columns) and {\"icd_code\",\"icd_version\"}.issubset(dictd.columns):\n",
    "        for _df in (d, dictd):\n",
    "            _df[\"icd_code\"] = _df[\"icd_code\"].astype(str).str.strip().str.upper()\n",
    "            _df[\"icd_version\"] = _norm_icd_version(_df[\"icd_version\"])\n",
    "        dx = d.merge(dictd, on=[\"icd_code\",\"icd_version\"], how=\"left\")\n",
    "        rows = []\n",
    "        for hadm, g in dx.groupby(\"hadm_id\"):\n",
    "            c10 = g.loc[g[\"icd_version\"].eq(10), \"icd_code\"].astype(str).tolist()\n",
    "            c9  = g.loc[g[\"icd_version\"].eq(9),  \"icd_code\"].astype(str).tolist()\n",
    "            has_diab = any(c.startswith((\"E10\",\"E11\",\"E12\",\"E13\",\"E14\")) for c in c10) or any(c.startswith(\"250\") for c in c9)\n",
    "            has_htn  = any(c.startswith((\"I10\",\"I11\",\"I12\",\"I13\",\"I15\")) for c in c10) or any(re.match(r\"40[1-5]\", c) for c in c9)\n",
    "            has_ckd  = any(c.startswith(\"N18\") for c in c10) or any(c.startswith(\"585\") for c in c9)\n",
    "            if has_diab: label = 1\n",
    "            elif has_htn: label = 2\n",
    "            elif has_ckd: label = 3\n",
    "            else: label = 0\n",
    "            rows.append({\"hadm_id\": hadm, \"label_disease\": label})\n",
    "        labels_multi = pd.DataFrame(rows)\n",
    "        feats=[]\n",
    "        for hadm, g in dx.groupby(\"hadm_id\"):\n",
    "            c10 = g.loc[g[\"icd_version\"].eq(10), \"icd_code\"].astype(str).tolist()\n",
    "            c9  = g.loc[g[\"icd_version\"].eq(9),  \"icd_code\"].astype(str).tolist()\n",
    "            f = {\n",
    "                \"hadm_id\": hadm,\n",
    "                \"dx10_E_count\": sum(x.startswith(\"E\") for x in c10),\n",
    "                \"dx10_I_count\": sum(x.startswith(\"I\") for x in c10),\n",
    "                \"dx10_N_count\": sum(x.startswith(\"N\") for x in c10),\n",
    "                \"dx10_J_count\": sum(x.startswith(\"J\") for x in c10),\n",
    "                \"dx9_250_count\": sum(x.startswith(\"250\") for x in c9),\n",
    "                \"dx9_401_405_count\": sum(re.match(r\"40[1-5]\", x) is not None for x in c9),\n",
    "                \"dx10_N18_count\": sum(x.startswith(\"N18\") for x in c10)\n",
    "            }\n",
    "            feats.append(f)\n",
    "        diag_groups = pd.DataFrame(feats)\n",
    "\n",
    "print(\"labels_multi built:\", labels_multi is not None)"
   ]
  },
  {
   "cell_type": "code",
   "execution_count": 6,
   "id": "c0603fae",
   "metadata": {},
   "outputs": [
    {
     "name": "stdout",
     "output_type": "stream",
     "text": [
      "Dropped label==3 rows: 6173 (remaining: 539679)\n",
      "Merged df shape: (539679, 133)\n"
     ]
    },
    {
     "data": {
      "text/html": [
       "<div>\n",
       "<style scoped>\n",
       "    .dataframe tbody tr th:only-of-type {\n",
       "        vertical-align: middle;\n",
       "    }\n",
       "\n",
       "    .dataframe tbody tr th {\n",
       "        vertical-align: top;\n",
       "    }\n",
       "\n",
       "    .dataframe thead th {\n",
       "        text-align: right;\n",
       "    }\n",
       "</style>\n",
       "<table border=\"1\" class=\"dataframe\">\n",
       "  <thead>\n",
       "    <tr style=\"text-align: right;\">\n",
       "      <th></th>\n",
       "      <th>subject_id</th>\n",
       "      <th>hadm_id</th>\n",
       "      <th>admittime</th>\n",
       "      <th>dischtime</th>\n",
       "      <th>insurance</th>\n",
       "      <th>language</th>\n",
       "      <th>los_days</th>\n",
       "      <th>anchor_year</th>\n",
       "      <th>anchor_age</th>\n",
       "      <th>sex</th>\n",
       "      <th>age_at_admit</th>\n",
       "      <th>label_disease</th>\n",
       "      <th>lab_calculated_bicarbonate,_whole_blood_mean</th>\n",
       "      <th>lab_carboxyhemoglobin_mean</th>\n",
       "      <th>lab_chloride,_whole_blood_mean</th>\n",
       "      <th>lab_glucose_mean</th>\n",
       "      <th>lab_hematocrit,_calculated_mean</th>\n",
       "      <th>lab_hemoglobin_mean</th>\n",
       "      <th>lab_lactate_mean</th>\n",
       "      <th>lab_methemoglobin_mean</th>\n",
       "      <th>lab_potassium,_whole_blood_mean</th>\n",
       "      <th>lab_sodium,_whole_blood_mean</th>\n",
       "      <th>lab_albumin,_ascites_mean</th>\n",
       "      <th>lab_bicarbonate,_ascites_mean</th>\n",
       "      <th>lab_bilirubin,_total,_ascites_mean</th>\n",
       "      <th>lab_chloride,_ascites_mean</th>\n",
       "      <th>lab_creatinine,_ascites_mean</th>\n",
       "      <th>lab_glucose,_ascites_mean</th>\n",
       "      <th>lab_lactate_dehydrogenase,_ascites_mean</th>\n",
       "      <th>lab_potassium,_ascites_mean</th>\n",
       "      <th>lab_sodium,_ascites_mean</th>\n",
       "      <th>lab_urea_nitrogen,_ascites_mean</th>\n",
       "      <th>lab_%_hemoglobin_a1c_mean</th>\n",
       "      <th>lab_albumin_mean</th>\n",
       "      <th>lab_bicarbonate_mean</th>\n",
       "      <th>lab_bilirubin,_direct_mean</th>\n",
       "      <th>lab_bilirubin,_indirect_mean</th>\n",
       "      <th>lab_bilirubin,_total_mean</th>\n",
       "      <th>lab_chloride_mean</th>\n",
       "      <th>lab_ck-mb_index_mean</th>\n",
       "      <th>lab_creatine_kinase_(ck)_mean</th>\n",
       "      <th>lab_creatinine_mean</th>\n",
       "      <th>lab_glucose_mean</th>\n",
       "      <th>lab_lactate_dehydrogenase_(ld)_mean</th>\n",
       "      <th>lab_potassium_mean</th>\n",
       "      <th>lab_sodium_mean</th>\n",
       "      <th>lab_tacrofk_mean</th>\n",
       "      <th>lab_urea_nitrogen_mean</th>\n",
       "      <th>lab_albumin,_joint_fluid_mean</th>\n",
       "      <th>lab_creatinine,_joint_fluid_mean</th>\n",
       "      <th>lab_glucose,_joint_fluid_mean</th>\n",
       "      <th>lab_albumin,_body_fluid_mean</th>\n",
       "      <th>lab_bicarbonate,_other_fluid_mean</th>\n",
       "      <th>lab_bilirubin,_total,_body_fluid_mean</th>\n",
       "      <th>lab_chloride,_body_fluid_mean</th>\n",
       "      <th>lab_creatinine,_body_fluid_mean</th>\n",
       "      <th>lab_glucose,_body_fluid_mean</th>\n",
       "      <th>lab_potassium,_body_fluid_mean</th>\n",
       "      <th>lab_sodium,_body_fluid_mean</th>\n",
       "      <th>lab_urea_nitrogen,_body_fluid_mean</th>\n",
       "      <th>...</th>\n",
       "      <th>lab_24_hr_creatinine_mean</th>\n",
       "      <th>lab_albumin,_urine_mean</th>\n",
       "      <th>lab_albumin/creatinine,_urine_mean</th>\n",
       "      <th>lab_amylase/creatinine_ratio,_urine_mean</th>\n",
       "      <th>lab_bicarbonate,_urine_mean</th>\n",
       "      <th>lab_chloride,_urine_mean</th>\n",
       "      <th>lab_creatinine_clearance_mean</th>\n",
       "      <th>lab_creatinine,_serum_mean</th>\n",
       "      <th>lab_creatinine,_urine_mean</th>\n",
       "      <th>lab_glucose,_urine_mean</th>\n",
       "      <th>lab_potassium,_urine_mean</th>\n",
       "      <th>lab_protein/creatinine_ratio_mean</th>\n",
       "      <th>lab_sodium,_urine_mean</th>\n",
       "      <th>lab_urea_nitrogen,_urine_mean</th>\n",
       "      <th>lab_urine_creatinine_mean</th>\n",
       "      <th>lab_hematocrit,_ascites_mean</th>\n",
       "      <th>lab_fetal_hemoglobin_mean</th>\n",
       "      <th>lab_hematocrit_mean</th>\n",
       "      <th>lab_hemoglobin_mean</th>\n",
       "      <th>lab_hemoglobin_a2_mean</th>\n",
       "      <th>lab_hemoglobin_c_mean</th>\n",
       "      <th>lab_hemoglobin_f_mean</th>\n",
       "      <th>lab_large_platelets_mean</th>\n",
       "      <th>lab_platelet_count_mean</th>\n",
       "      <th>lab_platelet_smear_mean</th>\n",
       "      <th>lab_wbc_count_mean</th>\n",
       "      <th>lab_white_blood_cells_mean</th>\n",
       "      <th>lab_hematocrit,_joint_fluid_mean</th>\n",
       "      <th>lab_hematocrit,_other_fluid_mean</th>\n",
       "      <th>lab_hematocrit,_pleural_mean</th>\n",
       "      <th>lab_glucose_mean</th>\n",
       "      <th>lab_hematocrit_mean</th>\n",
       "      <th>lab_wbc_mean</th>\n",
       "      <th>lab_wbc_casts_mean</th>\n",
       "      <th>lab_epstein-barr_virus_ebna_igg_ab_mean</th>\n",
       "      <th>lab_k_(green)_mean</th>\n",
       "      <th>lab_&lt;albumin&gt;_mean</th>\n",
       "      <th>lab_bilirubin,_total,_csf_mean</th>\n",
       "      <th>lab_glucose,_csf_mean</th>\n",
       "      <th>lab_lactate_dehydrogenase,_csf_mean</th>\n",
       "      <th>lab_surfactant/albumin_mean</th>\n",
       "      <th>lab_urea_nitrogen,_pleural_mean</th>\n",
       "      <th>lab_creatinine,_whole_blood_mean</th>\n",
       "      <th>lab_hemoglobin_other_mean</th>\n",
       "      <th>lab_wbcp_mean</th>\n",
       "      <th>lab_hematocrit,_csf_mean</th>\n",
       "      <th>rx_count</th>\n",
       "      <th>rx_unique</th>\n",
       "      <th>rx_insulin</th>\n",
       "      <th>rx_metformin</th>\n",
       "      <th>rx_statin</th>\n",
       "      <th>emar_admin_count</th>\n",
       "      <th>emar_insulin</th>\n",
       "      <th>dx10_E_count</th>\n",
       "      <th>dx10_I_count</th>\n",
       "      <th>dx10_N_count</th>\n",
       "      <th>dx10_J_count</th>\n",
       "      <th>dx9_250_count</th>\n",
       "      <th>dx9_401_405_count</th>\n",
       "      <th>dx10_N18_count</th>\n",
       "    </tr>\n",
       "  </thead>\n",
       "  <tbody>\n",
       "    <tr>\n",
       "      <th>0</th>\n",
       "      <td>10000032</td>\n",
       "      <td>22595853</td>\n",
       "      <td>2180-05-06 22:23:00</td>\n",
       "      <td>2180-05-07 17:15:00</td>\n",
       "      <td>MEDICAID</td>\n",
       "      <td>English</td>\n",
       "      <td>0.786111</td>\n",
       "      <td>2180</td>\n",
       "      <td>52</td>\n",
       "      <td>F</td>\n",
       "      <td>52</td>\n",
       "      <td>0</td>\n",
       "      <td>0.0</td>\n",
       "      <td>0.0</td>\n",
       "      <td>0.0</td>\n",
       "      <td>0.0</td>\n",
       "      <td>0.0</td>\n",
       "      <td>0.0</td>\n",
       "      <td>0.0</td>\n",
       "      <td>0.0</td>\n",
       "      <td>0.0</td>\n",
       "      <td>0.0</td>\n",
       "      <td>0.0</td>\n",
       "      <td>0.0</td>\n",
       "      <td>0.0</td>\n",
       "      <td>0.0</td>\n",
       "      <td>0.0</td>\n",
       "      <td>0.0</td>\n",
       "      <td>31.0</td>\n",
       "      <td>0.0</td>\n",
       "      <td>0.0</td>\n",
       "      <td>0.0</td>\n",
       "      <td>0.0</td>\n",
       "      <td>0.0</td>\n",
       "      <td>28.0</td>\n",
       "      <td>0.0</td>\n",
       "      <td>0.0</td>\n",
       "      <td>1.3</td>\n",
       "      <td>105.000000</td>\n",
       "      <td>0.0</td>\n",
       "      <td>0.0</td>\n",
       "      <td>0.300000</td>\n",
       "      <td>99.000000</td>\n",
       "      <td>0.0</td>\n",
       "      <td>4.500000</td>\n",
       "      <td>137.000000</td>\n",
       "      <td>0.0</td>\n",
       "      <td>25.000000</td>\n",
       "      <td>0.0</td>\n",
       "      <td>0.0</td>\n",
       "      <td>0.0</td>\n",
       "      <td>0.0</td>\n",
       "      <td>0.0</td>\n",
       "      <td>0.0</td>\n",
       "      <td>0.0</td>\n",
       "      <td>0.0</td>\n",
       "      <td>0.0</td>\n",
       "      <td>0.0</td>\n",
       "      <td>0.0</td>\n",
       "      <td>0.0</td>\n",
       "      <td>...</td>\n",
       "      <td>0.0</td>\n",
       "      <td>0.0</td>\n",
       "      <td>0.0</td>\n",
       "      <td>0.0</td>\n",
       "      <td>0.0</td>\n",
       "      <td>0.0</td>\n",
       "      <td>0.0</td>\n",
       "      <td>0.0</td>\n",
       "      <td>0.0</td>\n",
       "      <td>0.0</td>\n",
       "      <td>0.0</td>\n",
       "      <td>0.0</td>\n",
       "      <td>0.0</td>\n",
       "      <td>0.0</td>\n",
       "      <td>0.0</td>\n",
       "      <td>0.0</td>\n",
       "      <td>0.0</td>\n",
       "      <td>37.60</td>\n",
       "      <td>12.70</td>\n",
       "      <td>0.0</td>\n",
       "      <td>0.0</td>\n",
       "      <td>0.0</td>\n",
       "      <td>0.0</td>\n",
       "      <td>71.0</td>\n",
       "      <td>0.0</td>\n",
       "      <td>0.0</td>\n",
       "      <td>4.20</td>\n",
       "      <td>0.0</td>\n",
       "      <td>0.0</td>\n",
       "      <td>0.0</td>\n",
       "      <td>0.0</td>\n",
       "      <td>0.0</td>\n",
       "      <td>0.0</td>\n",
       "      <td>0.0</td>\n",
       "      <td>0.0</td>\n",
       "      <td>0.0</td>\n",
       "      <td>0.0</td>\n",
       "      <td>0.0</td>\n",
       "      <td>0.0</td>\n",
       "      <td>0.0</td>\n",
       "      <td>0.0</td>\n",
       "      <td>0.0</td>\n",
       "      <td>0.0</td>\n",
       "      <td>0.0</td>\n",
       "      <td>0.0</td>\n",
       "      <td>0.0</td>\n",
       "      <td>14.0</td>\n",
       "      <td>12.0</td>\n",
       "      <td>0.0</td>\n",
       "      <td>0.0</td>\n",
       "      <td>0.0</td>\n",
       "      <td>18.0</td>\n",
       "      <td>0.0</td>\n",
       "      <td>0.0</td>\n",
       "      <td>0.0</td>\n",
       "      <td>0.0</td>\n",
       "      <td>0.0</td>\n",
       "      <td>0.0</td>\n",
       "      <td>0.0</td>\n",
       "      <td>0.0</td>\n",
       "    </tr>\n",
       "    <tr>\n",
       "      <th>1</th>\n",
       "      <td>10000032</td>\n",
       "      <td>22841357</td>\n",
       "      <td>2180-06-26 18:27:00</td>\n",
       "      <td>2180-06-27 18:49:00</td>\n",
       "      <td>MEDICAID</td>\n",
       "      <td>English</td>\n",
       "      <td>1.015278</td>\n",
       "      <td>2180</td>\n",
       "      <td>52</td>\n",
       "      <td>F</td>\n",
       "      <td>52</td>\n",
       "      <td>0</td>\n",
       "      <td>0.0</td>\n",
       "      <td>0.0</td>\n",
       "      <td>0.0</td>\n",
       "      <td>0.0</td>\n",
       "      <td>0.0</td>\n",
       "      <td>0.0</td>\n",
       "      <td>0.0</td>\n",
       "      <td>0.0</td>\n",
       "      <td>0.0</td>\n",
       "      <td>0.0</td>\n",
       "      <td>0.0</td>\n",
       "      <td>0.0</td>\n",
       "      <td>0.0</td>\n",
       "      <td>0.0</td>\n",
       "      <td>0.0</td>\n",
       "      <td>0.0</td>\n",
       "      <td>0.0</td>\n",
       "      <td>0.0</td>\n",
       "      <td>0.0</td>\n",
       "      <td>0.0</td>\n",
       "      <td>0.0</td>\n",
       "      <td>2.7</td>\n",
       "      <td>25.0</td>\n",
       "      <td>0.0</td>\n",
       "      <td>0.0</td>\n",
       "      <td>1.2</td>\n",
       "      <td>92.000000</td>\n",
       "      <td>0.0</td>\n",
       "      <td>0.0</td>\n",
       "      <td>0.300000</td>\n",
       "      <td>71.000000</td>\n",
       "      <td>0.0</td>\n",
       "      <td>5.200000</td>\n",
       "      <td>126.000000</td>\n",
       "      <td>0.0</td>\n",
       "      <td>29.000000</td>\n",
       "      <td>0.0</td>\n",
       "      <td>0.0</td>\n",
       "      <td>0.0</td>\n",
       "      <td>0.0</td>\n",
       "      <td>0.0</td>\n",
       "      <td>0.0</td>\n",
       "      <td>0.0</td>\n",
       "      <td>0.0</td>\n",
       "      <td>0.0</td>\n",
       "      <td>0.0</td>\n",
       "      <td>0.0</td>\n",
       "      <td>0.0</td>\n",
       "      <td>...</td>\n",
       "      <td>0.0</td>\n",
       "      <td>0.0</td>\n",
       "      <td>0.0</td>\n",
       "      <td>0.0</td>\n",
       "      <td>0.0</td>\n",
       "      <td>0.0</td>\n",
       "      <td>0.0</td>\n",
       "      <td>0.0</td>\n",
       "      <td>0.0</td>\n",
       "      <td>0.0</td>\n",
       "      <td>0.0</td>\n",
       "      <td>0.0</td>\n",
       "      <td>0.0</td>\n",
       "      <td>0.0</td>\n",
       "      <td>0.0</td>\n",
       "      <td>0.0</td>\n",
       "      <td>0.0</td>\n",
       "      <td>35.50</td>\n",
       "      <td>12.40</td>\n",
       "      <td>0.0</td>\n",
       "      <td>0.0</td>\n",
       "      <td>0.0</td>\n",
       "      <td>0.0</td>\n",
       "      <td>137.0</td>\n",
       "      <td>0.0</td>\n",
       "      <td>0.0</td>\n",
       "      <td>6.60</td>\n",
       "      <td>0.0</td>\n",
       "      <td>0.0</td>\n",
       "      <td>0.0</td>\n",
       "      <td>0.0</td>\n",
       "      <td>0.0</td>\n",
       "      <td>13.0</td>\n",
       "      <td>0.0</td>\n",
       "      <td>0.0</td>\n",
       "      <td>0.0</td>\n",
       "      <td>0.0</td>\n",
       "      <td>0.0</td>\n",
       "      <td>0.0</td>\n",
       "      <td>0.0</td>\n",
       "      <td>0.0</td>\n",
       "      <td>0.0</td>\n",
       "      <td>0.0</td>\n",
       "      <td>0.0</td>\n",
       "      <td>0.0</td>\n",
       "      <td>0.0</td>\n",
       "      <td>15.0</td>\n",
       "      <td>14.0</td>\n",
       "      <td>0.0</td>\n",
       "      <td>0.0</td>\n",
       "      <td>0.0</td>\n",
       "      <td>23.0</td>\n",
       "      <td>0.0</td>\n",
       "      <td>0.0</td>\n",
       "      <td>0.0</td>\n",
       "      <td>0.0</td>\n",
       "      <td>0.0</td>\n",
       "      <td>0.0</td>\n",
       "      <td>0.0</td>\n",
       "      <td>0.0</td>\n",
       "    </tr>\n",
       "    <tr>\n",
       "      <th>2</th>\n",
       "      <td>10000032</td>\n",
       "      <td>25742920</td>\n",
       "      <td>2180-08-05 23:44:00</td>\n",
       "      <td>2180-08-07 17:50:00</td>\n",
       "      <td>MEDICAID</td>\n",
       "      <td>English</td>\n",
       "      <td>1.754167</td>\n",
       "      <td>2180</td>\n",
       "      <td>52</td>\n",
       "      <td>F</td>\n",
       "      <td>52</td>\n",
       "      <td>0</td>\n",
       "      <td>0.0</td>\n",
       "      <td>0.0</td>\n",
       "      <td>0.0</td>\n",
       "      <td>0.0</td>\n",
       "      <td>0.0</td>\n",
       "      <td>0.0</td>\n",
       "      <td>0.0</td>\n",
       "      <td>0.0</td>\n",
       "      <td>0.0</td>\n",
       "      <td>0.0</td>\n",
       "      <td>0.0</td>\n",
       "      <td>0.0</td>\n",
       "      <td>0.0</td>\n",
       "      <td>0.0</td>\n",
       "      <td>0.0</td>\n",
       "      <td>0.0</td>\n",
       "      <td>0.0</td>\n",
       "      <td>0.0</td>\n",
       "      <td>0.0</td>\n",
       "      <td>0.0</td>\n",
       "      <td>0.0</td>\n",
       "      <td>3.5</td>\n",
       "      <td>25.0</td>\n",
       "      <td>0.0</td>\n",
       "      <td>0.0</td>\n",
       "      <td>2.2</td>\n",
       "      <td>93.750000</td>\n",
       "      <td>0.0</td>\n",
       "      <td>0.0</td>\n",
       "      <td>0.466667</td>\n",
       "      <td>94.666667</td>\n",
       "      <td>0.0</td>\n",
       "      <td>5.975000</td>\n",
       "      <td>122.666667</td>\n",
       "      <td>0.0</td>\n",
       "      <td>31.333333</td>\n",
       "      <td>0.0</td>\n",
       "      <td>0.0</td>\n",
       "      <td>0.0</td>\n",
       "      <td>0.0</td>\n",
       "      <td>0.0</td>\n",
       "      <td>0.0</td>\n",
       "      <td>0.0</td>\n",
       "      <td>0.0</td>\n",
       "      <td>0.0</td>\n",
       "      <td>0.0</td>\n",
       "      <td>0.0</td>\n",
       "      <td>0.0</td>\n",
       "      <td>...</td>\n",
       "      <td>0.0</td>\n",
       "      <td>0.0</td>\n",
       "      <td>0.0</td>\n",
       "      <td>0.0</td>\n",
       "      <td>0.0</td>\n",
       "      <td>0.0</td>\n",
       "      <td>0.0</td>\n",
       "      <td>0.0</td>\n",
       "      <td>0.0</td>\n",
       "      <td>0.0</td>\n",
       "      <td>0.0</td>\n",
       "      <td>0.0</td>\n",
       "      <td>0.0</td>\n",
       "      <td>0.0</td>\n",
       "      <td>0.0</td>\n",
       "      <td>0.0</td>\n",
       "      <td>0.0</td>\n",
       "      <td>34.05</td>\n",
       "      <td>11.85</td>\n",
       "      <td>0.0</td>\n",
       "      <td>0.0</td>\n",
       "      <td>0.0</td>\n",
       "      <td>0.0</td>\n",
       "      <td>120.0</td>\n",
       "      <td>0.0</td>\n",
       "      <td>0.0</td>\n",
       "      <td>6.55</td>\n",
       "      <td>0.0</td>\n",
       "      <td>0.0</td>\n",
       "      <td>0.0</td>\n",
       "      <td>0.0</td>\n",
       "      <td>0.0</td>\n",
       "      <td>0.0</td>\n",
       "      <td>0.0</td>\n",
       "      <td>0.0</td>\n",
       "      <td>0.0</td>\n",
       "      <td>0.0</td>\n",
       "      <td>0.0</td>\n",
       "      <td>0.0</td>\n",
       "      <td>0.0</td>\n",
       "      <td>0.0</td>\n",
       "      <td>0.0</td>\n",
       "      <td>0.0</td>\n",
       "      <td>0.0</td>\n",
       "      <td>0.0</td>\n",
       "      <td>0.0</td>\n",
       "      <td>28.0</td>\n",
       "      <td>22.0</td>\n",
       "      <td>1.0</td>\n",
       "      <td>0.0</td>\n",
       "      <td>0.0</td>\n",
       "      <td>50.0</td>\n",
       "      <td>1.0</td>\n",
       "      <td>0.0</td>\n",
       "      <td>0.0</td>\n",
       "      <td>0.0</td>\n",
       "      <td>0.0</td>\n",
       "      <td>0.0</td>\n",
       "      <td>0.0</td>\n",
       "      <td>0.0</td>\n",
       "    </tr>\n",
       "    <tr>\n",
       "      <th>3</th>\n",
       "      <td>10000032</td>\n",
       "      <td>29079034</td>\n",
       "      <td>2180-07-23 12:35:00</td>\n",
       "      <td>2180-07-25 17:55:00</td>\n",
       "      <td>MEDICAID</td>\n",
       "      <td>English</td>\n",
       "      <td>2.222222</td>\n",
       "      <td>2180</td>\n",
       "      <td>52</td>\n",
       "      <td>F</td>\n",
       "      <td>52</td>\n",
       "      <td>0</td>\n",
       "      <td>0.0</td>\n",
       "      <td>0.0</td>\n",
       "      <td>0.0</td>\n",
       "      <td>0.0</td>\n",
       "      <td>0.0</td>\n",
       "      <td>0.0</td>\n",
       "      <td>0.0</td>\n",
       "      <td>0.0</td>\n",
       "      <td>0.0</td>\n",
       "      <td>0.0</td>\n",
       "      <td>0.0</td>\n",
       "      <td>0.0</td>\n",
       "      <td>0.0</td>\n",
       "      <td>0.0</td>\n",
       "      <td>0.0</td>\n",
       "      <td>0.0</td>\n",
       "      <td>0.0</td>\n",
       "      <td>0.0</td>\n",
       "      <td>0.0</td>\n",
       "      <td>0.0</td>\n",
       "      <td>0.0</td>\n",
       "      <td>3.8</td>\n",
       "      <td>24.0</td>\n",
       "      <td>0.0</td>\n",
       "      <td>0.0</td>\n",
       "      <td>2.2</td>\n",
       "      <td>100.333333</td>\n",
       "      <td>0.0</td>\n",
       "      <td>0.0</td>\n",
       "      <td>0.433333</td>\n",
       "      <td>114.333333</td>\n",
       "      <td>173.0</td>\n",
       "      <td>4.966667</td>\n",
       "      <td>130.666667</td>\n",
       "      <td>0.0</td>\n",
       "      <td>32.000000</td>\n",
       "      <td>0.0</td>\n",
       "      <td>0.0</td>\n",
       "      <td>0.0</td>\n",
       "      <td>0.0</td>\n",
       "      <td>0.0</td>\n",
       "      <td>0.0</td>\n",
       "      <td>0.0</td>\n",
       "      <td>0.0</td>\n",
       "      <td>0.0</td>\n",
       "      <td>0.0</td>\n",
       "      <td>0.0</td>\n",
       "      <td>0.0</td>\n",
       "      <td>...</td>\n",
       "      <td>0.0</td>\n",
       "      <td>0.0</td>\n",
       "      <td>0.0</td>\n",
       "      <td>0.0</td>\n",
       "      <td>0.0</td>\n",
       "      <td>0.0</td>\n",
       "      <td>0.0</td>\n",
       "      <td>0.0</td>\n",
       "      <td>0.0</td>\n",
       "      <td>0.0</td>\n",
       "      <td>0.0</td>\n",
       "      <td>0.0</td>\n",
       "      <td>0.0</td>\n",
       "      <td>0.0</td>\n",
       "      <td>0.0</td>\n",
       "      <td>0.0</td>\n",
       "      <td>0.0</td>\n",
       "      <td>33.45</td>\n",
       "      <td>11.55</td>\n",
       "      <td>0.0</td>\n",
       "      <td>0.0</td>\n",
       "      <td>0.0</td>\n",
       "      <td>0.0</td>\n",
       "      <td>94.5</td>\n",
       "      <td>0.0</td>\n",
       "      <td>0.0</td>\n",
       "      <td>4.45</td>\n",
       "      <td>0.0</td>\n",
       "      <td>0.0</td>\n",
       "      <td>0.0</td>\n",
       "      <td>0.0</td>\n",
       "      <td>0.0</td>\n",
       "      <td>0.0</td>\n",
       "      <td>0.0</td>\n",
       "      <td>0.0</td>\n",
       "      <td>0.0</td>\n",
       "      <td>0.0</td>\n",
       "      <td>0.0</td>\n",
       "      <td>0.0</td>\n",
       "      <td>0.0</td>\n",
       "      <td>0.0</td>\n",
       "      <td>0.0</td>\n",
       "      <td>0.0</td>\n",
       "      <td>0.0</td>\n",
       "      <td>0.0</td>\n",
       "      <td>0.0</td>\n",
       "      <td>24.0</td>\n",
       "      <td>17.0</td>\n",
       "      <td>0.0</td>\n",
       "      <td>0.0</td>\n",
       "      <td>0.0</td>\n",
       "      <td>47.0</td>\n",
       "      <td>1.0</td>\n",
       "      <td>0.0</td>\n",
       "      <td>0.0</td>\n",
       "      <td>0.0</td>\n",
       "      <td>0.0</td>\n",
       "      <td>0.0</td>\n",
       "      <td>0.0</td>\n",
       "      <td>0.0</td>\n",
       "    </tr>\n",
       "    <tr>\n",
       "      <th>4</th>\n",
       "      <td>10000068</td>\n",
       "      <td>25022803</td>\n",
       "      <td>2160-03-03 23:16:00</td>\n",
       "      <td>2160-03-04 06:26:00</td>\n",
       "      <td>UNKNOWN</td>\n",
       "      <td>English</td>\n",
       "      <td>0.298611</td>\n",
       "      <td>2160</td>\n",
       "      <td>19</td>\n",
       "      <td>F</td>\n",
       "      <td>19</td>\n",
       "      <td>0</td>\n",
       "      <td>0.0</td>\n",
       "      <td>0.0</td>\n",
       "      <td>0.0</td>\n",
       "      <td>0.0</td>\n",
       "      <td>0.0</td>\n",
       "      <td>0.0</td>\n",
       "      <td>0.0</td>\n",
       "      <td>0.0</td>\n",
       "      <td>0.0</td>\n",
       "      <td>0.0</td>\n",
       "      <td>0.0</td>\n",
       "      <td>0.0</td>\n",
       "      <td>0.0</td>\n",
       "      <td>0.0</td>\n",
       "      <td>0.0</td>\n",
       "      <td>0.0</td>\n",
       "      <td>0.0</td>\n",
       "      <td>0.0</td>\n",
       "      <td>0.0</td>\n",
       "      <td>0.0</td>\n",
       "      <td>0.0</td>\n",
       "      <td>0.0</td>\n",
       "      <td>0.0</td>\n",
       "      <td>0.0</td>\n",
       "      <td>0.0</td>\n",
       "      <td>0.0</td>\n",
       "      <td>0.000000</td>\n",
       "      <td>0.0</td>\n",
       "      <td>0.0</td>\n",
       "      <td>0.000000</td>\n",
       "      <td>0.000000</td>\n",
       "      <td>0.0</td>\n",
       "      <td>0.000000</td>\n",
       "      <td>0.000000</td>\n",
       "      <td>0.0</td>\n",
       "      <td>0.000000</td>\n",
       "      <td>0.0</td>\n",
       "      <td>0.0</td>\n",
       "      <td>0.0</td>\n",
       "      <td>0.0</td>\n",
       "      <td>0.0</td>\n",
       "      <td>0.0</td>\n",
       "      <td>0.0</td>\n",
       "      <td>0.0</td>\n",
       "      <td>0.0</td>\n",
       "      <td>0.0</td>\n",
       "      <td>0.0</td>\n",
       "      <td>0.0</td>\n",
       "      <td>...</td>\n",
       "      <td>0.0</td>\n",
       "      <td>0.0</td>\n",
       "      <td>0.0</td>\n",
       "      <td>0.0</td>\n",
       "      <td>0.0</td>\n",
       "      <td>0.0</td>\n",
       "      <td>0.0</td>\n",
       "      <td>0.0</td>\n",
       "      <td>0.0</td>\n",
       "      <td>0.0</td>\n",
       "      <td>0.0</td>\n",
       "      <td>0.0</td>\n",
       "      <td>0.0</td>\n",
       "      <td>0.0</td>\n",
       "      <td>0.0</td>\n",
       "      <td>0.0</td>\n",
       "      <td>0.0</td>\n",
       "      <td>0.00</td>\n",
       "      <td>0.00</td>\n",
       "      <td>0.0</td>\n",
       "      <td>0.0</td>\n",
       "      <td>0.0</td>\n",
       "      <td>0.0</td>\n",
       "      <td>0.0</td>\n",
       "      <td>0.0</td>\n",
       "      <td>0.0</td>\n",
       "      <td>0.00</td>\n",
       "      <td>0.0</td>\n",
       "      <td>0.0</td>\n",
       "      <td>0.0</td>\n",
       "      <td>0.0</td>\n",
       "      <td>0.0</td>\n",
       "      <td>0.0</td>\n",
       "      <td>0.0</td>\n",
       "      <td>0.0</td>\n",
       "      <td>0.0</td>\n",
       "      <td>0.0</td>\n",
       "      <td>0.0</td>\n",
       "      <td>0.0</td>\n",
       "      <td>0.0</td>\n",
       "      <td>0.0</td>\n",
       "      <td>0.0</td>\n",
       "      <td>0.0</td>\n",
       "      <td>0.0</td>\n",
       "      <td>0.0</td>\n",
       "      <td>0.0</td>\n",
       "      <td>0.0</td>\n",
       "      <td>0.0</td>\n",
       "      <td>0.0</td>\n",
       "      <td>0.0</td>\n",
       "      <td>0.0</td>\n",
       "      <td>0.0</td>\n",
       "      <td>0.0</td>\n",
       "      <td>0.0</td>\n",
       "      <td>0.0</td>\n",
       "      <td>0.0</td>\n",
       "      <td>0.0</td>\n",
       "      <td>0.0</td>\n",
       "      <td>0.0</td>\n",
       "      <td>0.0</td>\n",
       "    </tr>\n",
       "  </tbody>\n",
       "</table>\n",
       "<p>5 rows × 133 columns</p>\n",
       "</div>"
      ],
      "text/plain": [
       "   subject_id   hadm_id           admittime           dischtime insurance  \\\n",
       "0    10000032  22595853 2180-05-06 22:23:00 2180-05-07 17:15:00  MEDICAID   \n",
       "1    10000032  22841357 2180-06-26 18:27:00 2180-06-27 18:49:00  MEDICAID   \n",
       "2    10000032  25742920 2180-08-05 23:44:00 2180-08-07 17:50:00  MEDICAID   \n",
       "3    10000032  29079034 2180-07-23 12:35:00 2180-07-25 17:55:00  MEDICAID   \n",
       "4    10000068  25022803 2160-03-03 23:16:00 2160-03-04 06:26:00   UNKNOWN   \n",
       "\n",
       "  language  los_days  anchor_year  anchor_age sex  age_at_admit  \\\n",
       "0  English  0.786111         2180          52   F            52   \n",
       "1  English  1.015278         2180          52   F            52   \n",
       "2  English  1.754167         2180          52   F            52   \n",
       "3  English  2.222222         2180          52   F            52   \n",
       "4  English  0.298611         2160          19   F            19   \n",
       "\n",
       "   label_disease  lab_calculated_bicarbonate,_whole_blood_mean  \\\n",
       "0              0                                           0.0   \n",
       "1              0                                           0.0   \n",
       "2              0                                           0.0   \n",
       "3              0                                           0.0   \n",
       "4              0                                           0.0   \n",
       "\n",
       "   lab_carboxyhemoglobin_mean  lab_chloride,_whole_blood_mean  \\\n",
       "0                         0.0                             0.0   \n",
       "1                         0.0                             0.0   \n",
       "2                         0.0                             0.0   \n",
       "3                         0.0                             0.0   \n",
       "4                         0.0                             0.0   \n",
       "\n",
       "   lab_glucose_mean  lab_hematocrit,_calculated_mean  lab_hemoglobin_mean  \\\n",
       "0               0.0                              0.0                  0.0   \n",
       "1               0.0                              0.0                  0.0   \n",
       "2               0.0                              0.0                  0.0   \n",
       "3               0.0                              0.0                  0.0   \n",
       "4               0.0                              0.0                  0.0   \n",
       "\n",
       "   lab_lactate_mean  lab_methemoglobin_mean  lab_potassium,_whole_blood_mean  \\\n",
       "0               0.0                     0.0                              0.0   \n",
       "1               0.0                     0.0                              0.0   \n",
       "2               0.0                     0.0                              0.0   \n",
       "3               0.0                     0.0                              0.0   \n",
       "4               0.0                     0.0                              0.0   \n",
       "\n",
       "   lab_sodium,_whole_blood_mean  lab_albumin,_ascites_mean  \\\n",
       "0                           0.0                        0.0   \n",
       "1                           0.0                        0.0   \n",
       "2                           0.0                        0.0   \n",
       "3                           0.0                        0.0   \n",
       "4                           0.0                        0.0   \n",
       "\n",
       "   lab_bicarbonate,_ascites_mean  lab_bilirubin,_total,_ascites_mean  \\\n",
       "0                            0.0                                 0.0   \n",
       "1                            0.0                                 0.0   \n",
       "2                            0.0                                 0.0   \n",
       "3                            0.0                                 0.0   \n",
       "4                            0.0                                 0.0   \n",
       "\n",
       "   lab_chloride,_ascites_mean  lab_creatinine,_ascites_mean  \\\n",
       "0                         0.0                           0.0   \n",
       "1                         0.0                           0.0   \n",
       "2                         0.0                           0.0   \n",
       "3                         0.0                           0.0   \n",
       "4                         0.0                           0.0   \n",
       "\n",
       "   lab_glucose,_ascites_mean  lab_lactate_dehydrogenase,_ascites_mean  \\\n",
       "0                        0.0                                     31.0   \n",
       "1                        0.0                                      0.0   \n",
       "2                        0.0                                      0.0   \n",
       "3                        0.0                                      0.0   \n",
       "4                        0.0                                      0.0   \n",
       "\n",
       "   lab_potassium,_ascites_mean  lab_sodium,_ascites_mean  \\\n",
       "0                          0.0                       0.0   \n",
       "1                          0.0                       0.0   \n",
       "2                          0.0                       0.0   \n",
       "3                          0.0                       0.0   \n",
       "4                          0.0                       0.0   \n",
       "\n",
       "   lab_urea_nitrogen,_ascites_mean  lab_%_hemoglobin_a1c_mean  \\\n",
       "0                              0.0                        0.0   \n",
       "1                              0.0                        0.0   \n",
       "2                              0.0                        0.0   \n",
       "3                              0.0                        0.0   \n",
       "4                              0.0                        0.0   \n",
       "\n",
       "   lab_albumin_mean  lab_bicarbonate_mean  lab_bilirubin,_direct_mean  \\\n",
       "0               0.0                  28.0                         0.0   \n",
       "1               2.7                  25.0                         0.0   \n",
       "2               3.5                  25.0                         0.0   \n",
       "3               3.8                  24.0                         0.0   \n",
       "4               0.0                   0.0                         0.0   \n",
       "\n",
       "   lab_bilirubin,_indirect_mean  lab_bilirubin,_total_mean  lab_chloride_mean  \\\n",
       "0                           0.0                        1.3         105.000000   \n",
       "1                           0.0                        1.2          92.000000   \n",
       "2                           0.0                        2.2          93.750000   \n",
       "3                           0.0                        2.2         100.333333   \n",
       "4                           0.0                        0.0           0.000000   \n",
       "\n",
       "   lab_ck-mb_index_mean  lab_creatine_kinase_(ck)_mean  lab_creatinine_mean  \\\n",
       "0                   0.0                            0.0             0.300000   \n",
       "1                   0.0                            0.0             0.300000   \n",
       "2                   0.0                            0.0             0.466667   \n",
       "3                   0.0                            0.0             0.433333   \n",
       "4                   0.0                            0.0             0.000000   \n",
       "\n",
       "   lab_glucose_mean  lab_lactate_dehydrogenase_(ld)_mean  lab_potassium_mean  \\\n",
       "0         99.000000                                  0.0            4.500000   \n",
       "1         71.000000                                  0.0            5.200000   \n",
       "2         94.666667                                  0.0            5.975000   \n",
       "3        114.333333                                173.0            4.966667   \n",
       "4          0.000000                                  0.0            0.000000   \n",
       "\n",
       "   lab_sodium_mean  lab_tacrofk_mean  lab_urea_nitrogen_mean  \\\n",
       "0       137.000000               0.0               25.000000   \n",
       "1       126.000000               0.0               29.000000   \n",
       "2       122.666667               0.0               31.333333   \n",
       "3       130.666667               0.0               32.000000   \n",
       "4         0.000000               0.0                0.000000   \n",
       "\n",
       "   lab_albumin,_joint_fluid_mean  lab_creatinine,_joint_fluid_mean  \\\n",
       "0                            0.0                               0.0   \n",
       "1                            0.0                               0.0   \n",
       "2                            0.0                               0.0   \n",
       "3                            0.0                               0.0   \n",
       "4                            0.0                               0.0   \n",
       "\n",
       "   lab_glucose,_joint_fluid_mean  lab_albumin,_body_fluid_mean  \\\n",
       "0                            0.0                           0.0   \n",
       "1                            0.0                           0.0   \n",
       "2                            0.0                           0.0   \n",
       "3                            0.0                           0.0   \n",
       "4                            0.0                           0.0   \n",
       "\n",
       "   lab_bicarbonate,_other_fluid_mean  lab_bilirubin,_total,_body_fluid_mean  \\\n",
       "0                                0.0                                    0.0   \n",
       "1                                0.0                                    0.0   \n",
       "2                                0.0                                    0.0   \n",
       "3                                0.0                                    0.0   \n",
       "4                                0.0                                    0.0   \n",
       "\n",
       "   lab_chloride,_body_fluid_mean  lab_creatinine,_body_fluid_mean  \\\n",
       "0                            0.0                              0.0   \n",
       "1                            0.0                              0.0   \n",
       "2                            0.0                              0.0   \n",
       "3                            0.0                              0.0   \n",
       "4                            0.0                              0.0   \n",
       "\n",
       "   lab_glucose,_body_fluid_mean  lab_potassium,_body_fluid_mean  \\\n",
       "0                           0.0                             0.0   \n",
       "1                           0.0                             0.0   \n",
       "2                           0.0                             0.0   \n",
       "3                           0.0                             0.0   \n",
       "4                           0.0                             0.0   \n",
       "\n",
       "   lab_sodium,_body_fluid_mean  lab_urea_nitrogen,_body_fluid_mean  ...  \\\n",
       "0                          0.0                                 0.0  ...   \n",
       "1                          0.0                                 0.0  ...   \n",
       "2                          0.0                                 0.0  ...   \n",
       "3                          0.0                                 0.0  ...   \n",
       "4                          0.0                                 0.0  ...   \n",
       "\n",
       "   lab_24_hr_creatinine_mean  lab_albumin,_urine_mean  \\\n",
       "0                        0.0                      0.0   \n",
       "1                        0.0                      0.0   \n",
       "2                        0.0                      0.0   \n",
       "3                        0.0                      0.0   \n",
       "4                        0.0                      0.0   \n",
       "\n",
       "   lab_albumin/creatinine,_urine_mean  \\\n",
       "0                                 0.0   \n",
       "1                                 0.0   \n",
       "2                                 0.0   \n",
       "3                                 0.0   \n",
       "4                                 0.0   \n",
       "\n",
       "   lab_amylase/creatinine_ratio,_urine_mean  lab_bicarbonate,_urine_mean  \\\n",
       "0                                       0.0                          0.0   \n",
       "1                                       0.0                          0.0   \n",
       "2                                       0.0                          0.0   \n",
       "3                                       0.0                          0.0   \n",
       "4                                       0.0                          0.0   \n",
       "\n",
       "   lab_chloride,_urine_mean  lab_creatinine_clearance_mean  \\\n",
       "0                       0.0                            0.0   \n",
       "1                       0.0                            0.0   \n",
       "2                       0.0                            0.0   \n",
       "3                       0.0                            0.0   \n",
       "4                       0.0                            0.0   \n",
       "\n",
       "   lab_creatinine,_serum_mean  lab_creatinine,_urine_mean  \\\n",
       "0                         0.0                         0.0   \n",
       "1                         0.0                         0.0   \n",
       "2                         0.0                         0.0   \n",
       "3                         0.0                         0.0   \n",
       "4                         0.0                         0.0   \n",
       "\n",
       "   lab_glucose,_urine_mean  lab_potassium,_urine_mean  \\\n",
       "0                      0.0                        0.0   \n",
       "1                      0.0                        0.0   \n",
       "2                      0.0                        0.0   \n",
       "3                      0.0                        0.0   \n",
       "4                      0.0                        0.0   \n",
       "\n",
       "   lab_protein/creatinine_ratio_mean  lab_sodium,_urine_mean  \\\n",
       "0                                0.0                     0.0   \n",
       "1                                0.0                     0.0   \n",
       "2                                0.0                     0.0   \n",
       "3                                0.0                     0.0   \n",
       "4                                0.0                     0.0   \n",
       "\n",
       "   lab_urea_nitrogen,_urine_mean  lab_urine_creatinine_mean  \\\n",
       "0                            0.0                        0.0   \n",
       "1                            0.0                        0.0   \n",
       "2                            0.0                        0.0   \n",
       "3                            0.0                        0.0   \n",
       "4                            0.0                        0.0   \n",
       "\n",
       "   lab_hematocrit,_ascites_mean  lab_fetal_hemoglobin_mean  \\\n",
       "0                           0.0                        0.0   \n",
       "1                           0.0                        0.0   \n",
       "2                           0.0                        0.0   \n",
       "3                           0.0                        0.0   \n",
       "4                           0.0                        0.0   \n",
       "\n",
       "   lab_hematocrit_mean  lab_hemoglobin_mean  lab_hemoglobin_a2_mean  \\\n",
       "0                37.60                12.70                     0.0   \n",
       "1                35.50                12.40                     0.0   \n",
       "2                34.05                11.85                     0.0   \n",
       "3                33.45                11.55                     0.0   \n",
       "4                 0.00                 0.00                     0.0   \n",
       "\n",
       "   lab_hemoglobin_c_mean  lab_hemoglobin_f_mean  lab_large_platelets_mean  \\\n",
       "0                    0.0                    0.0                       0.0   \n",
       "1                    0.0                    0.0                       0.0   \n",
       "2                    0.0                    0.0                       0.0   \n",
       "3                    0.0                    0.0                       0.0   \n",
       "4                    0.0                    0.0                       0.0   \n",
       "\n",
       "   lab_platelet_count_mean  lab_platelet_smear_mean  lab_wbc_count_mean  \\\n",
       "0                     71.0                      0.0                 0.0   \n",
       "1                    137.0                      0.0                 0.0   \n",
       "2                    120.0                      0.0                 0.0   \n",
       "3                     94.5                      0.0                 0.0   \n",
       "4                      0.0                      0.0                 0.0   \n",
       "\n",
       "   lab_white_blood_cells_mean  lab_hematocrit,_joint_fluid_mean  \\\n",
       "0                        4.20                               0.0   \n",
       "1                        6.60                               0.0   \n",
       "2                        6.55                               0.0   \n",
       "3                        4.45                               0.0   \n",
       "4                        0.00                               0.0   \n",
       "\n",
       "   lab_hematocrit,_other_fluid_mean  lab_hematocrit,_pleural_mean  \\\n",
       "0                               0.0                           0.0   \n",
       "1                               0.0                           0.0   \n",
       "2                               0.0                           0.0   \n",
       "3                               0.0                           0.0   \n",
       "4                               0.0                           0.0   \n",
       "\n",
       "   lab_glucose_mean  lab_hematocrit_mean  lab_wbc_mean  lab_wbc_casts_mean  \\\n",
       "0               0.0                  0.0           0.0                 0.0   \n",
       "1               0.0                  0.0          13.0                 0.0   \n",
       "2               0.0                  0.0           0.0                 0.0   \n",
       "3               0.0                  0.0           0.0                 0.0   \n",
       "4               0.0                  0.0           0.0                 0.0   \n",
       "\n",
       "   lab_epstein-barr_virus_ebna_igg_ab_mean  lab_k_(green)_mean  \\\n",
       "0                                      0.0                 0.0   \n",
       "1                                      0.0                 0.0   \n",
       "2                                      0.0                 0.0   \n",
       "3                                      0.0                 0.0   \n",
       "4                                      0.0                 0.0   \n",
       "\n",
       "   lab_<albumin>_mean  lab_bilirubin,_total,_csf_mean  lab_glucose,_csf_mean  \\\n",
       "0                 0.0                             0.0                    0.0   \n",
       "1                 0.0                             0.0                    0.0   \n",
       "2                 0.0                             0.0                    0.0   \n",
       "3                 0.0                             0.0                    0.0   \n",
       "4                 0.0                             0.0                    0.0   \n",
       "\n",
       "   lab_lactate_dehydrogenase,_csf_mean  lab_surfactant/albumin_mean  \\\n",
       "0                                  0.0                          0.0   \n",
       "1                                  0.0                          0.0   \n",
       "2                                  0.0                          0.0   \n",
       "3                                  0.0                          0.0   \n",
       "4                                  0.0                          0.0   \n",
       "\n",
       "   lab_urea_nitrogen,_pleural_mean  lab_creatinine,_whole_blood_mean  \\\n",
       "0                              0.0                               0.0   \n",
       "1                              0.0                               0.0   \n",
       "2                              0.0                               0.0   \n",
       "3                              0.0                               0.0   \n",
       "4                              0.0                               0.0   \n",
       "\n",
       "   lab_hemoglobin_other_mean  lab_wbcp_mean  lab_hematocrit,_csf_mean  \\\n",
       "0                        0.0            0.0                       0.0   \n",
       "1                        0.0            0.0                       0.0   \n",
       "2                        0.0            0.0                       0.0   \n",
       "3                        0.0            0.0                       0.0   \n",
       "4                        0.0            0.0                       0.0   \n",
       "\n",
       "   rx_count  rx_unique  rx_insulin  rx_metformin  rx_statin  emar_admin_count  \\\n",
       "0      14.0       12.0         0.0           0.0        0.0              18.0   \n",
       "1      15.0       14.0         0.0           0.0        0.0              23.0   \n",
       "2      28.0       22.0         1.0           0.0        0.0              50.0   \n",
       "3      24.0       17.0         0.0           0.0        0.0              47.0   \n",
       "4       0.0        0.0         0.0           0.0        0.0               0.0   \n",
       "\n",
       "   emar_insulin  dx10_E_count  dx10_I_count  dx10_N_count  dx10_J_count  \\\n",
       "0           0.0           0.0           0.0           0.0           0.0   \n",
       "1           0.0           0.0           0.0           0.0           0.0   \n",
       "2           1.0           0.0           0.0           0.0           0.0   \n",
       "3           1.0           0.0           0.0           0.0           0.0   \n",
       "4           0.0           0.0           0.0           0.0           0.0   \n",
       "\n",
       "   dx9_250_count  dx9_401_405_count  dx10_N18_count  \n",
       "0            0.0                0.0             0.0  \n",
       "1            0.0                0.0             0.0  \n",
       "2            0.0                0.0             0.0  \n",
       "3            0.0                0.0             0.0  \n",
       "4            0.0                0.0             0.0  \n",
       "\n",
       "[5 rows x 133 columns]"
      ]
     },
     "metadata": {},
     "output_type": "display_data"
    }
   ],
   "source": [
    "# -----------------------------\n",
    "# Merge all & DROP label==3\n",
    "# -----------------------------\n",
    "frames = {\"base\":base, \"wide\":wide, \"vitals\":vitalsw, \"rxw\":rxw, \"emw\":emw, \"labels\":labels_multi, \"diag_groups\":diag_groups}\n",
    "for k in frames:\n",
    "    frames[k] = _coerce_int64_nullable(frames[k], [\"hadm_id\",\"subject_id\"])\n",
    "    frames[k] = _dedup_on(frames[k], \"hadm_id\")\n",
    "\n",
    "if base is None:\n",
    "    raise RuntimeError(\"Base admissions/patients merge not available. Ensure admissions and patients CSVs are present.\")\n",
    "\n",
    "to_merge = [frames[x] for x in [\"labels\",\"wide\",\"vitals\",\"rxw\",\"emw\",\"diag_groups\"] if frames[x] is not None]\n",
    "df = reduce(lambda left, right: left.merge(right, on=\"hadm_id\", how=\"left\"), [frames[\"base\"]] + to_merge)\n",
    "df = df.fillna(0)\n",
    "\n",
    "if \"label_disease\" not in df.columns:\n",
    "    raise RuntimeError(\"label_disease missing after merge.\")\n",
    "before = len(df)\n",
    "df = df[df[\"label_disease\"].astype(float) != 3.0].copy()\n",
    "df[\"label_disease\"] = df[\"label_disease\"].astype(int)\n",
    "after = len(df)\n",
    "print(f\"Dropped label==3 rows: {before - after} (remaining: {after})\")\n",
    "\n",
    "print(\"Merged df shape:\", df.shape)\n",
    "try: display(df.head())\n",
    "except: print(df.head())"
   ]
  },
  {
   "cell_type": "code",
   "execution_count": 7,
   "id": "682eb280",
   "metadata": {},
   "outputs": [],
   "source": [
    "# -----------------------------\n",
    "# Subject-wise split\n",
    "# -----------------------------\n",
    "subs = df[\"subject_id\"].dropna().unique()\n",
    "if len(subs) < 2:\n",
    "    raise RuntimeError(\"Not enough distinct subject_id values for a subject-wise split.\")\n",
    "\n",
    "rng = np.random.default_rng(42)\n",
    "test_subs = set(rng.choice(subs, size=max(1, int(0.2*len(subs))), replace=False))\n",
    "train = df[~df[\"subject_id\"].isin(test_subs)].copy()\n",
    "test  = df[df[\"subject_id\"].isin(test_subs)].copy()\n",
    "\n",
    "target = \"label_disease\"\n",
    "y_tr, y_te = train[target].astype(int), test[target].astype(int)\n",
    "drop_cols = [c for c in [\"subject_id\",\"hadm_id\",\"admittime\",\"dischtime\",\"anchor_year\",\"anchor_age\",target] if c in train.columns]\n",
    "X_tr = train.drop(columns=drop_cols, errors=\"ignore\")\n",
    "X_te = test.drop(columns=drop_cols, errors=\"ignore\")\n",
    "\n",
    "# collapse duplicates from wide pivots\n",
    "X_tr = collapse_duplicate_columns(X_tr)\n",
    "X_te = collapse_duplicate_columns(X_te)\n",
    "X_tr = X_tr.loc[:, ~X_tr.columns.duplicated()]\n",
    "X_te = X_te.loc[:, ~X_te.columns.duplicated()]"
   ]
  },
  {
   "cell_type": "code",
   "execution_count": 8,
   "id": "a15b0ba8",
   "metadata": {},
   "outputs": [],
   "source": [
    "# -----------------------------\n",
    "# Preprocessor (dense) for SMOTE and picklable (no lambdas)\n",
    "# -----------------------------\n",
    "num = pd.Index(X_tr.select_dtypes(include=np.number).columns).drop_duplicates()\n",
    "cat = pd.Index(X_tr.select_dtypes(exclude=np.number).columns).drop_duplicates()\n",
    "num = [c for c in num if c not in (\"hadm_id\",\"subject_id\")]\n",
    "cat = [c for c in cat if c not in (\"hadm_id\",\"subject_id\")]\n",
    "\n",
    "ohe = OneHotEncoder(handle_unknown=\"ignore\", sparse_output=False)  # use sparse=False for broad sklearn compatibility\n",
    "\n",
    "transformers = []\n",
    "if len(num) > 0:\n",
    "    transformers.append((\"num\", StandardScaler(), num))\n",
    "if len(cat) > 0:\n",
    "    transformers.append((\n",
    "        \"cat\",\n",
    "        Pipeline([\n",
    "            (\"to_str\", ToStr()),  # picklable replacement for lambda FunctionTransformer\n",
    "            (\"ohe\", ohe)\n",
    "        ]),\n",
    "        cat\n",
    "    ))\n",
    "if len(transformers) == 0:\n",
    "    raise RuntimeError(\"No usable features left after preprocessing. Check your inputs.\")\n",
    "pre = ColumnTransformer(transformers)"
   ]
  },
  {
   "cell_type": "code",
   "execution_count": 9,
   "id": "1dfb67ba",
   "metadata": {},
   "outputs": [
    {
     "data": {
      "image/png": "[encoded data removed]",
      "text/plain": [
       "<Figure size 800x500 with 1 Axes>"
      ]
     },
     "metadata": {},
     "output_type": "display_data"
    },
    {
     "data": {
      "image/png": "[encoded data removed]",
      "text/plain": [
       "<Figure size 800x500 with 1 Axes>"
      ]
     },
     "metadata": {},
     "output_type": "display_data"
    }
   ],
   "source": [
    "# -----------------------------\n",
    "# Show class imbalance BEFORE/AFTER SMOTE (for plotting only)\n",
    "# -----------------------------\n",
    "plot_class_dist(y_tr, \"Class distribution BEFORE SMOTE (train)\")\n",
    "\n",
    "# Fit preprocessor once for plotting & run SMOTE to visualize after-dist\n",
    "Xtr_enc = pre.fit_transform(X_tr)\n",
    "smote_vis = SMOTE(k_neighbors=5, random_state=42)\n",
    "_, y_tr_sm_vis = smote_vis.fit_resample(Xtr_enc, y_tr)\n",
    "plot_class_dist(pd.Series(y_tr_sm_vis), \"Class distribution AFTER SMOTE (train)\")"
   ]
  },
  {
   "cell_type": "code",
   "execution_count": 10,
   "id": "16d395a3",
   "metadata": {},
   "outputs": [
    {
     "name": "stdout",
     "output_type": "stream",
     "text": [
      "\n",
      "=== LogReg ===\n",
      "              precision    recall  f1-score   support\n",
      "\n",
      "           0       0.89      0.95      0.92     46835\n",
      "           1       0.93      0.91      0.92     26665\n",
      "           2       0.89      0.82      0.85     34262\n",
      "\n",
      "    accuracy                           0.90    107762\n",
      "   macro avg       0.90      0.89      0.90    107762\n",
      "weighted avg       0.90      0.90      0.90    107762\n",
      "\n",
      "Accuracy: 0.898\n",
      "F1 (weighted): 0.898\n",
      "Precision (weighted): 0.898\n",
      "Recall (weighted): 0.898\n",
      "ROC-AUC (OVR if multiclass): 0.983\n"
     ]
    },
    {
     "data": {
      "application/vnd.plotly.v1+json": {
       "config": {
        "plotlyServerURL": "https://plot.ly"
       },
       "data": [
        {
         "coloraxis": "coloraxis",
         "hovertemplate": "x: %{x}<br>y: %{y}<br>color: %{z}<extra></extra>",
         "name": "0",
         "texttemplate": "%{z}",
         "type": "heatmap",
         "x": [
          "0",
          "1",
          "2"
         ],
         "xaxis": "x",
         "y": [
          "0",
          "1",
          "2"
         ],
         "yaxis": "y",
         "z": {
          "bdata": "aK0AAMMBAADIBwAAOQMAAI1eAABjBgAAUhIAAF0FAAAnbgAA",
          "dtype": "i4",
          "shape": "3, 3"
         }
        }
       ],
       "layout": {
        "coloraxis": {
         "colorscale": [
          [
           0,
           "#0d0887"
          ],
          [
           0.1111111111111111,
           "#46039f"
          ],
          [
           0.2222222222222222,
           "#7201a8"
          ],
          [
           0.3333333333333333,
           "#9c179e"
          ],
          [
           0.4444444444444444,
           "#bd3786"
          ],
          [
           0.5555555555555556,
           "#d8576b"
          ],
          [
           0.6666666666666666,
           "#ed7953"
          ],
          [
           0.7777777777777778,
           "#fb9f3a"
          ],
          [
           0.8888888888888888,
           "#fdca26"
          ],
          [
           1,
           "#f0f921"
          ]
         ],
         "showscale": true
        },
        "template": {
         "data": {
          "bar": [
           {
            "error_x": {
             "color": "#2a3f5f"
            },
            "error_y": {
             "color": "#2a3f5f"
            },
            "marker": {
             "line": {
              "color": "#E5ECF6",
              "width": 0.5
             },
             "pattern": {
              "fillmode": "overlay",
              "size": 10,
              "solidity": 0.2
             }
            },
            "type": "bar"
           }
          ],
          "barpolar": [
           {
            "marker": {
             "line": {
              "color": "#E5ECF6",
              "width": 0.5
             },
             "pattern": {
              "fillmode": "overlay",
              "size": 10,
              "solidity": 0.2
             }
            },
            "type": "barpolar"
           }
          ],
          "carpet": [
           {
            "aaxis": {
             "endlinecolor": "#2a3f5f",
             "gridcolor": "white",
             "linecolor": "white",
             "minorgridcolor": "white",
             "startlinecolor": "#2a3f5f"
            },
            "baxis": {
             "endlinecolor": "#2a3f5f",
             "gridcolor": "white",
             "linecolor": "white",
             "minorgridcolor": "white",
             "startlinecolor": "#2a3f5f"
            },
            "type": "carpet"
           }
          ],
          "choropleth": [
           {
            "colorbar": {
             "outlinewidth": 0,
             "ticks": ""
            },
            "type": "choropleth"
           }
          ],
          "contour": [
           {
            "colorbar": {
             "outlinewidth": 0,
             "ticks": ""
            },
            "colorscale": [
             [
              0,
              "#0d0887"
             ],
             [
              0.1111111111111111,
              "#46039f"
             ],
             [
              0.2222222222222222,
              "#7201a8"
             ],
             [
              0.3333333333333333,
              "#9c179e"
             ],
             [
              0.4444444444444444,
              "#bd3786"
             ],
             [
              0.5555555555555556,
              "#d8576b"
             ],
             [
              0.6666666666666666,
              "#ed7953"
             ],
             [
              0.7777777777777778,
              "#fb9f3a"
             ],
             [
              0.8888888888888888,
              "#fdca26"
             ],
             [
              1,
              "#f0f921"
             ]
            ],
            "type": "contour"
           }
          ],
          "contourcarpet": [
           {
            "colorbar": {
             "outlinewidth": 0,
             "ticks": ""
            },
            "type": "contourcarpet"
           }
          ],
          "heatmap": [
           {
            "colorbar": {
             "outlinewidth": 0,
             "ticks": ""
            },
            "colorscale": [
             [
              0,
              "#0d0887"
             ],
             [
              0.1111111111111111,
              "#46039f"
             ],
             [
              0.2222222222222222,
              "#7201a8"
             ],
             [
              0.3333333333333333,
              "#9c179e"
             ],
             [
              0.4444444444444444,
              "#bd3786"
             ],
             [
              0.5555555555555556,
              "#d8576b"
             ],
             [
              0.6666666666666666,
              "#ed7953"
             ],
             [
              0.7777777777777778,
              "#fb9f3a"
             ],
             [
              0.8888888888888888,
              "#fdca26"
             ],
             [
              1,
              "#f0f921"
             ]
            ],
            "type": "heatmap"
           }
          ],
          "histogram": [
           {
            "marker": {
             "pattern": {
              "fillmode": "overlay",
              "size": 10,
              "solidity": 0.2
             }
            },
            "type": "histogram"
           }
          ],
          "histogram2d": [
           {
            "colorbar": {
             "outlinewidth": 0,
             "ticks": ""
            },
            "colorscale": [
             [
              0,
              "#0d0887"
             ],
             [
              0.1111111111111111,
              "#46039f"
             ],
             [
              0.2222222222222222,
              "#7201a8"
             ],
             [
              0.3333333333333333,
              "#9c179e"
             ],
             [
              0.4444444444444444,
              "#bd3786"
             ],
             [
              0.5555555555555556,
              "#d8576b"
             ],
             [
              0.6666666666666666,
              "#ed7953"
             ],
             [
              0.7777777777777778,
              "#fb9f3a"
             ],
             [
              0.8888888888888888,
              "#fdca26"
             ],
             [
              1,
              "#f0f921"
             ]
            ],
            "type": "histogram2d"
           }
          ],
          "histogram2dcontour": [
           {
            "colorbar": {
             "outlinewidth": 0,
             "ticks": ""
            },
            "colorscale": [
             [
              0,
              "#0d0887"
             ],
             [
              0.1111111111111111,
              "#46039f"
             ],
             [
              0.2222222222222222,
              "#7201a8"
             ],
             [
              0.3333333333333333,
              "#9c179e"
             ],
             [
              0.4444444444444444,
              "#bd3786"
             ],
             [
              0.5555555555555556,
              "#d8576b"
             ],
             [
              0.6666666666666666,
              "#ed7953"
             ],
             [
              0.7777777777777778,
              "#fb9f3a"
             ],
             [
              0.8888888888888888,
              "#fdca26"
             ],
             [
              1,
              "#f0f921"
             ]
            ],
            "type": "histogram2dcontour"
           }
          ],
          "mesh3d": [
           {
            "colorbar": {
             "outlinewidth": 0,
             "ticks": ""
            },
            "type": "mesh3d"
           }
          ],
          "parcoords": [
           {
            "line": {
             "colorbar": {
              "outlinewidth": 0,
              "ticks": ""
             }
            },
            "type": "parcoords"
           }
          ],
          "pie": [
           {
            "automargin": true,
            "type": "pie"
           }
          ],
          "scatter": [
           {
            "fillpattern": {
             "fillmode": "overlay",
             "size": 10,
             "solidity": 0.2
            },
            "type": "scatter"
           }
          ],
          "scatter3d": [
           {
            "line": {
             "colorbar": {
              "outlinewidth": 0,
              "ticks": ""
             }
            },
            "marker": {
             "colorbar": {
              "outlinewidth": 0,
              "ticks": ""
             }
            },
            "type": "scatter3d"
           }
          ],
          "scattercarpet": [
           {
            "marker": {
             "colorbar": {
              "outlinewidth": 0,
              "ticks": ""
             }
            },
            "type": "scattercarpet"
           }
          ],
          "scattergeo": [
           {
            "marker": {
             "colorbar": {
              "outlinewidth": 0,
              "ticks": ""
             }
            },
            "type": "scattergeo"
           }
          ],
          "scattergl": [
           {
            "marker": {
             "colorbar": {
              "outlinewidth": 0,
              "ticks": ""
             }
            },
            "type": "scattergl"
           }
          ],
          "scattermap": [
           {
            "marker": {
             "colorbar": {
              "outlinewidth": 0,
              "ticks": ""
             }
            },
            "type": "scattermap"
           }
          ],
          "scattermapbox": [
           {
            "marker": {
             "colorbar": {
              "outlinewidth": 0,
              "ticks": ""
             }
            },
            "type": "scattermapbox"
           }
          ],
          "scatterpolar": [
           {
            "marker": {
             "colorbar": {
              "outlinewidth": 0,
              "ticks": ""
             }
            },
            "type": "scatterpolar"
           }
          ],
          "scatterpolargl": [
           {
            "marker": {
             "colorbar": {
              "outlinewidth": 0,
              "ticks": ""
             }
            },
            "type": "scatterpolargl"
           }
          ],
          "scatterternary": [
           {
            "marker": {
             "colorbar": {
              "outlinewidth": 0,
              "ticks": ""
             }
            },
            "type": "scatterternary"
           }
          ],
          "surface": [
           {
            "colorbar": {
             "outlinewidth": 0,
             "ticks": ""
            },
            "colorscale": [
             [
              0,
              "#0d0887"
             ],
             [
              0.1111111111111111,
              "#46039f"
             ],
             [
              0.2222222222222222,
              "#7201a8"
             ],
             [
              0.3333333333333333,
              "#9c179e"
             ],
             [
              0.4444444444444444,
              "#bd3786"
             ],
             [
              0.5555555555555556,
              "#d8576b"
             ],
             [
              0.6666666666666666,
              "#ed7953"
             ],
             [
              0.7777777777777778,
              "#fb9f3a"
             ],
             [
              0.8888888888888888,
              "#fdca26"
             ],
             [
              1,
              "#f0f921"
             ]
            ],
            "type": "surface"
           }
          ],
          "table": [
           {
            "cells": {
             "fill": {
              "color": "#EBF0F8"
             },
             "line": {
              "color": "white"
             }
            },
            "header": {
             "fill": {
              "color": "#C8D4E3"
             },
             "line": {
              "color": "white"
             }
            },
            "type": "table"
           }
          ]
         },
         "layout": {
          "annotationdefaults": {
           "arrowcolor": "#2a3f5f",
           "arrowhead": 0,
           "arrowwidth": 1
          },
          "autotypenumbers": "strict",
          "coloraxis": {
           "colorbar": {
            "outlinewidth": 0,
            "ticks": ""
           }
          },
          "colorscale": {
           "diverging": [
            [
             0,
             "#8e0152"
            ],
            [
             0.1,
             "#c51b7d"
            ],
            [
             0.2,
             "#de77ae"
            ],
            [
             0.3,
             "#f1b6da"
            ],
            [
             0.4,
             "#fde0ef"
            ],
            [
             0.5,
             "#f7f7f7"
            ],
            [
             0.6,
             "#e6f5d0"
            ],
            [
             0.7,
             "#b8e186"
            ],
            [
             0.8,
             "#7fbc41"
            ],
            [
             0.9,
             "#4d9221"
            ],
            [
             1,
             "#276419"
            ]
           ],
           "sequential": [
            [
             0,
             "#0d0887"
            ],
            [
             0.1111111111111111,
             "#46039f"
            ],
            [
             0.2222222222222222,
             "#7201a8"
            ],
            [
             0.3333333333333333,
             "#9c179e"
            ],
            [
             0.4444444444444444,
             "#bd3786"
            ],
            [
             0.5555555555555556,
             "#d8576b"
            ],
            [
             0.6666666666666666,
             "#ed7953"
            ],
            [
             0.7777777777777778,
             "#fb9f3a"
            ],
            [
             0.8888888888888888,
             "#fdca26"
            ],
            [
             1,
             "#f0f921"
            ]
           ],
           "sequentialminus": [
            [
             0,
             "#0d0887"
            ],
            [
             0.1111111111111111,
             "#46039f"
            ],
            [
             0.2222222222222222,
             "#7201a8"
            ],
            [
             0.3333333333333333,
             "#9c179e"
            ],
            [
             0.4444444444444444,
             "#bd3786"
            ],
            [
             0.5555555555555556,
             "#d8576b"
            ],
            [
             0.6666666666666666,
             "#ed7953"
            ],
            [
             0.7777777777777778,
             "#fb9f3a"
            ],
            [
             0.8888888888888888,
             "#fdca26"
            ],
            [
             1,
             "#f0f921"
            ]
           ]
          },
          "colorway": [
           "#636efa",
           "#EF553B",
           "#00cc96",
           "#ab63fa",
           "#FFA15A",
           "#19d3f3",
           "#FF6692",
           "#B6E880",
           "#FF97FF",
           "#FECB52"
          ],
          "font": {
           "color": "#2a3f5f"
          },
          "geo": {
           "bgcolor": "white",
           "lakecolor": "white",
           "landcolor": "#E5ECF6",
           "showlakes": true,
           "showland": true,
           "subunitcolor": "white"
          },
          "hoverlabel": {
           "align": "left"
          },
          "hovermode": "closest",
          "mapbox": {
           "style": "light"
          },
          "paper_bgcolor": "white",
          "plot_bgcolor": "#E5ECF6",
          "polar": {
           "angularaxis": {
            "gridcolor": "white",
            "linecolor": "white",
            "ticks": ""
           },
           "bgcolor": "#E5ECF6",
           "radialaxis": {
            "gridcolor": "white",
            "linecolor": "white",
            "ticks": ""
           }
          },
          "scene": {
           "xaxis": {
            "backgroundcolor": "#E5ECF6",
            "gridcolor": "white",
            "gridwidth": 2,
            "linecolor": "white",
            "showbackground": true,
            "ticks": "",
            "zerolinecolor": "white"
           },
           "yaxis": {
            "backgroundcolor": "#E5ECF6",
            "gridcolor": "white",
            "gridwidth": 2,
            "linecolor": "white",
            "showbackground": true,
            "ticks": "",
            "zerolinecolor": "white"
           },
           "zaxis": {
            "backgroundcolor": "#E5ECF6",
            "gridcolor": "white",
            "gridwidth": 2,
            "linecolor": "white",
            "showbackground": true,
            "ticks": "",
            "zerolinecolor": "white"
           }
          },
          "shapedefaults": {
           "line": {
            "color": "#2a3f5f"
           }
          },
          "ternary": {
           "aaxis": {
            "gridcolor": "white",
            "linecolor": "white",
            "ticks": ""
           },
           "baxis": {
            "gridcolor": "white",
            "linecolor": "white",
            "ticks": ""
           },
           "bgcolor": "#E5ECF6",
           "caxis": {
            "gridcolor": "white",
            "linecolor": "white",
            "ticks": ""
           }
          },
          "title": {
           "x": 0.05
          },
          "xaxis": {
           "automargin": true,
           "gridcolor": "white",
           "linecolor": "white",
           "ticks": "",
           "title": {
            "standoff": 15
           },
           "zerolinecolor": "white",
           "zerolinewidth": 2
          },
          "yaxis": {
           "automargin": true,
           "gridcolor": "white",
           "linecolor": "white",
           "ticks": "",
           "title": {
            "standoff": 15
           },
           "zerolinecolor": "white",
           "zerolinewidth": 2
          }
         }
        },
        "title": {
         "text": "Confusion Matrix (counts) — LogReg"
        },
        "xaxis": {
         "anchor": "y",
         "constrain": "domain",
         "domain": [
          0,
          1
         ],
         "scaleanchor": "y",
         "side": "top",
         "title": {
          "text": "Predicted label"
         }
        },
        "yaxis": {
         "anchor": "x",
         "autorange": "reversed",
         "constrain": "domain",
         "domain": [
          0,
          1
         ],
         "title": {
          "text": "True label"
         }
        }
       }
      }
     },
     "metadata": {},
     "output_type": "display_data"
    },
    {
     "name": "stdout",
     "output_type": "stream",
     "text": [
      "\n",
      "=== XGB ===\n",
      "              precision    recall  f1-score   support\n",
      "\n",
      "           0       0.97      0.92      0.95     46835\n",
      "           1       0.94      0.92      0.93     26665\n",
      "           2       0.86      0.94      0.90     34262\n",
      "\n",
      "    accuracy                           0.93    107762\n",
      "   macro avg       0.93      0.93      0.93    107762\n",
      "weighted avg       0.93      0.93      0.93    107762\n",
      "\n",
      "Accuracy: 0.928\n",
      "F1 (weighted): 0.929\n",
      "Precision (weighted): 0.931\n",
      "Recall (weighted): 0.928\n",
      "ROC-AUC (OVR if multiclass): 0.990\n"
     ]
    },
    {
     "data": {
      "application/vnd.plotly.v1+json": {
       "config": {
        "plotlyServerURL": "https://plot.ly"
       },
       "data": [
        {
         "coloraxis": "coloraxis",
         "hovertemplate": "x: %{x}<br>y: %{y}<br>color: %{z}<extra></extra>",
         "name": "0",
         "texttemplate": "%{z}",
         "type": "heatmap",
         "x": [
          "0",
          "1",
          "2"
         ],
         "xaxis": "x",
         "y": [
          "0",
          "1",
          "2"
         ],
         "yaxis": "y",
         "z": {
          "bdata": "8acAAEYBAAC8DQAAagEAAFBgAABvBgAA7gIAAHoEAABufgAA",
          "dtype": "i4",
          "shape": "3, 3"
         }
        }
       ],
       "layout": {
        "coloraxis": {
         "colorscale": [
          [
           0,
           "#0d0887"
          ],
          [
           0.1111111111111111,
           "#46039f"
          ],
          [
           0.2222222222222222,
           "#7201a8"
          ],
          [
           0.3333333333333333,
           "#9c179e"
          ],
          [
           0.4444444444444444,
           "#bd3786"
          ],
          [
           0.5555555555555556,
           "#d8576b"
          ],
          [
           0.6666666666666666,
           "#ed7953"
          ],
          [
           0.7777777777777778,
           "#fb9f3a"
          ],
          [
           0.8888888888888888,
           "#fdca26"
          ],
          [
           1,
           "#f0f921"
          ]
         ],
         "showscale": true
        },
        "template": {
         "data": {
          "bar": [
           {
            "error_x": {
             "color": "#2a3f5f"
            },
            "error_y": {
             "color": "#2a3f5f"
            },
            "marker": {
             "line": {
              "color": "#E5ECF6",
              "width": 0.5
             },
             "pattern": {
              "fillmode": "overlay",
              "size": 10,
              "solidity": 0.2
             }
            },
            "type": "bar"
           }
          ],
          "barpolar": [
           {
            "marker": {
             "line": {
              "color": "#E5ECF6",
              "width": 0.5
             },
             "pattern": {
              "fillmode": "overlay",
              "size": 10,
              "solidity": 0.2
             }
            },
            "type": "barpolar"
           }
          ],
          "carpet": [
           {
            "aaxis": {
             "endlinecolor": "#2a3f5f",
             "gridcolor": "white",
             "linecolor": "white",
             "minorgridcolor": "white",
             "startlinecolor": "#2a3f5f"
            },
            "baxis": {
             "endlinecolor": "#2a3f5f",
             "gridcolor": "white",
             "linecolor": "white",
             "minorgridcolor": "white",
             "startlinecolor": "#2a3f5f"
            },
            "type": "carpet"
           }
          ],
          "choropleth": [
           {
            "colorbar": {
             "outlinewidth": 0,
             "ticks": ""
            },
            "type": "choropleth"
           }
          ],
          "contour": [
           {
            "colorbar": {
             "outlinewidth": 0,
             "ticks": ""
            },
            "colorscale": [
             [
              0,
              "#0d0887"
             ],
             [
              0.1111111111111111,
              "#46039f"
             ],
             [
              0.2222222222222222,
              "#7201a8"
             ],
             [
              0.3333333333333333,
              "#9c179e"
             ],
             [
              0.4444444444444444,
              "#bd3786"
             ],
             [
              0.5555555555555556,
              "#d8576b"
             ],
             [
              0.6666666666666666,
              "#ed7953"
             ],
             [
              0.7777777777777778,
              "#fb9f3a"
             ],
             [
              0.8888888888888888,
              "#fdca26"
             ],
             [
              1,
              "#f0f921"
             ]
            ],
            "type": "contour"
           }
          ],
          "contourcarpet": [
           {
            "colorbar": {
             "outlinewidth": 0,
             "ticks": ""
            },
            "type": "contourcarpet"
           }
          ],
          "heatmap": [
           {
            "colorbar": {
             "outlinewidth": 0,
             "ticks": ""
            },
            "colorscale": [
             [
              0,
              "#0d0887"
             ],
             [
              0.1111111111111111,
              "#46039f"
             ],
             [
              0.2222222222222222,
              "#7201a8"
             ],
             [
              0.3333333333333333,
              "#9c179e"
             ],
             [
              0.4444444444444444,
              "#bd3786"
             ],
             [
              0.5555555555555556,
              "#d8576b"
             ],
             [
              0.6666666666666666,
              "#ed7953"
             ],
             [
              0.7777777777777778,
              "#fb9f3a"
             ],
             [
              0.8888888888888888,
              "#fdca26"
             ],
             [
              1,
              "#f0f921"
             ]
            ],
            "type": "heatmap"
           }
          ],
          "histogram": [
           {
            "marker": {
             "pattern": {
              "fillmode": "overlay",
              "size": 10,
              "solidity": 0.2
             }
            },
            "type": "histogram"
           }
          ],
          "histogram2d": [
           {
            "colorbar": {
             "outlinewidth": 0,
             "ticks": ""
            },
            "colorscale": [
             [
              0,
              "#0d0887"
             ],
             [
              0.1111111111111111,
              "#46039f"
             ],
             [
              0.2222222222222222,
              "#7201a8"
             ],
             [
              0.3333333333333333,
              "#9c179e"
             ],
             [
              0.4444444444444444,
              "#bd3786"
             ],
             [
              0.5555555555555556,
              "#d8576b"
             ],
             [
              0.6666666666666666,
              "#ed7953"
             ],
             [
              0.7777777777777778,
              "#fb9f3a"
             ],
             [
              0.8888888888888888,
              "#fdca26"
             ],
             [
              1,
              "#f0f921"
             ]
            ],
            "type": "histogram2d"
           }
          ],
          "histogram2dcontour": [
           {
            "colorbar": {
             "outlinewidth": 0,
             "ticks": ""
            },
            "colorscale": [
             [
              0,
              "#0d0887"
             ],
             [
              0.1111111111111111,
              "#46039f"
             ],
             [
              0.2222222222222222,
              "#7201a8"
             ],
             [
              0.3333333333333333,
              "#9c179e"
             ],
             [
              0.4444444444444444,
              "#bd3786"
             ],
             [
              0.5555555555555556,
              "#d8576b"
             ],
             [
              0.6666666666666666,
              "#ed7953"
             ],
             [
              0.7777777777777778,
              "#fb9f3a"
             ],
             [
              0.8888888888888888,
              "#fdca26"
             ],
             [
              1,
              "#f0f921"
             ]
            ],
            "type": "histogram2dcontour"
           }
          ],
          "mesh3d": [
           {
            "colorbar": {
             "outlinewidth": 0,
             "ticks": ""
            },
            "type": "mesh3d"
           }
          ],
          "parcoords": [
           {
            "line": {
             "colorbar": {
              "outlinewidth": 0,
              "ticks": ""
             }
            },
            "type": "parcoords"
           }
          ],
          "pie": [
           {
            "automargin": true,
            "type": "pie"
           }
          ],
          "scatter": [
           {
            "fillpattern": {
             "fillmode": "overlay",
             "size": 10,
             "solidity": 0.2
            },
            "type": "scatter"
           }
          ],
          "scatter3d": [
           {
            "line": {
             "colorbar": {
              "outlinewidth": 0,
              "ticks": ""
             }
            },
            "marker": {
             "colorbar": {
              "outlinewidth": 0,
              "ticks": ""
             }
            },
            "type": "scatter3d"
           }
          ],
          "scattercarpet": [
           {
            "marker": {
             "colorbar": {
              "outlinewidth": 0,
              "ticks": ""
             }
            },
            "type": "scattercarpet"
           }
          ],
          "scattergeo": [
           {
            "marker": {
             "colorbar": {
              "outlinewidth": 0,
              "ticks": ""
             }
            },
            "type": "scattergeo"
           }
          ],
          "scattergl": [
           {
            "marker": {
             "colorbar": {
              "outlinewidth": 0,
              "ticks": ""
             }
            },
            "type": "scattergl"
           }
          ],
          "scattermap": [
           {
            "marker": {
             "colorbar": {
              "outlinewidth": 0,
              "ticks": ""
             }
            },
            "type": "scattermap"
           }
          ],
          "scattermapbox": [
           {
            "marker": {
             "colorbar": {
              "outlinewidth": 0,
              "ticks": ""
             }
            },
            "type": "scattermapbox"
           }
          ],
          "scatterpolar": [
           {
            "marker": {
             "colorbar": {
              "outlinewidth": 0,
              "ticks": ""
             }
            },
            "type": "scatterpolar"
           }
          ],
          "scatterpolargl": [
           {
            "marker": {
             "colorbar": {
              "outlinewidth": 0,
              "ticks": ""
             }
            },
            "type": "scatterpolargl"
           }
          ],
          "scatterternary": [
           {
            "marker": {
             "colorbar": {
              "outlinewidth": 0,
              "ticks": ""
             }
            },
            "type": "scatterternary"
           }
          ],
          "surface": [
           {
            "colorbar": {
             "outlinewidth": 0,
             "ticks": ""
            },
            "colorscale": [
             [
              0,
              "#0d0887"
             ],
             [
              0.1111111111111111,
              "#46039f"
             ],
             [
              0.2222222222222222,
              "#7201a8"
             ],
             [
              0.3333333333333333,
              "#9c179e"
             ],
             [
              0.4444444444444444,
              "#bd3786"
             ],
             [
              0.5555555555555556,
              "#d8576b"
             ],
             [
              0.6666666666666666,
              "#ed7953"
             ],
             [
              0.7777777777777778,
              "#fb9f3a"
             ],
             [
              0.8888888888888888,
              "#fdca26"
             ],
             [
              1,
              "#f0f921"
             ]
            ],
            "type": "surface"
           }
          ],
          "table": [
           {
            "cells": {
             "fill": {
              "color": "#EBF0F8"
             },
             "line": {
              "color": "white"
             }
            },
            "header": {
             "fill": {
              "color": "#C8D4E3"
             },
             "line": {
              "color": "white"
             }
            },
            "type": "table"
           }
          ]
         },
         "layout": {
          "annotationdefaults": {
           "arrowcolor": "#2a3f5f",
           "arrowhead": 0,
           "arrowwidth": 1
          },
          "autotypenumbers": "strict",
          "coloraxis": {
           "colorbar": {
            "outlinewidth": 0,
            "ticks": ""
           }
          },
          "colorscale": {
           "diverging": [
            [
             0,
             "#8e0152"
            ],
            [
             0.1,
             "#c51b7d"
            ],
            [
             0.2,
             "#de77ae"
            ],
            [
             0.3,
             "#f1b6da"
            ],
            [
             0.4,
             "#fde0ef"
            ],
            [
             0.5,
             "#f7f7f7"
            ],
            [
             0.6,
             "#e6f5d0"
            ],
            [
             0.7,
             "#b8e186"
            ],
            [
             0.8,
             "#7fbc41"
            ],
            [
             0.9,
             "#4d9221"
            ],
            [
             1,
             "#276419"
            ]
           ],
           "sequential": [
            [
             0,
             "#0d0887"
            ],
            [
             0.1111111111111111,
             "#46039f"
            ],
            [
             0.2222222222222222,
             "#7201a8"
            ],
            [
             0.3333333333333333,
             "#9c179e"
            ],
            [
             0.4444444444444444,
             "#bd3786"
            ],
            [
             0.5555555555555556,
             "#d8576b"
            ],
            [
             0.6666666666666666,
             "#ed7953"
            ],
            [
             0.7777777777777778,
             "#fb9f3a"
            ],
            [
             0.8888888888888888,
             "#fdca26"
            ],
            [
             1,
             "#f0f921"
            ]
           ],
           "sequentialminus": [
            [
             0,
             "#0d0887"
            ],
            [
             0.1111111111111111,
             "#46039f"
            ],
            [
             0.2222222222222222,
             "#7201a8"
            ],
            [
             0.3333333333333333,
             "#9c179e"
            ],
            [
             0.4444444444444444,
             "#bd3786"
            ],
            [
             0.5555555555555556,
             "#d8576b"
            ],
            [
             0.6666666666666666,
             "#ed7953"
            ],
            [
             0.7777777777777778,
             "#fb9f3a"
            ],
            [
             0.8888888888888888,
             "#fdca26"
            ],
            [
             1,
             "#f0f921"
            ]
           ]
          },
          "colorway": [
           "#636efa",
           "#EF553B",
           "#00cc96",
           "#ab63fa",
           "#FFA15A",
           "#19d3f3",
           "#FF6692",
           "#B6E880",
           "#FF97FF",
           "#FECB52"
          ],
          "font": {
           "color": "#2a3f5f"
          },
          "geo": {
           "bgcolor": "white",
           "lakecolor": "white",
           "landcolor": "#E5ECF6",
           "showlakes": true,
           "showland": true,
           "subunitcolor": "white"
          },
          "hoverlabel": {
           "align": "left"
          },
          "hovermode": "closest",
          "mapbox": {
           "style": "light"
          },
          "paper_bgcolor": "white",
          "plot_bgcolor": "#E5ECF6",
          "polar": {
           "angularaxis": {
            "gridcolor": "white",
            "linecolor": "white",
            "ticks": ""
           },
           "bgcolor": "#E5ECF6",
           "radialaxis": {
            "gridcolor": "white",
            "linecolor": "white",
            "ticks": ""
           }
          },
          "scene": {
           "xaxis": {
            "backgroundcolor": "#E5ECF6",
            "gridcolor": "white",
            "gridwidth": 2,
            "linecolor": "white",
            "showbackground": true,
            "ticks": "",
            "zerolinecolor": "white"
           },
           "yaxis": {
            "backgroundcolor": "#E5ECF6",
            "gridcolor": "white",
            "gridwidth": 2,
            "linecolor": "white",
            "showbackground": true,
            "ticks": "",
            "zerolinecolor": "white"
           },
           "zaxis": {
            "backgroundcolor": "#E5ECF6",
            "gridcolor": "white",
            "gridwidth": 2,
            "linecolor": "white",
            "showbackground": true,
            "ticks": "",
            "zerolinecolor": "white"
           }
          },
          "shapedefaults": {
           "line": {
            "color": "#2a3f5f"
           }
          },
          "ternary": {
           "aaxis": {
            "gridcolor": "white",
            "linecolor": "white",
            "ticks": ""
           },
           "baxis": {
            "gridcolor": "white",
            "linecolor": "white",
            "ticks": ""
           },
           "bgcolor": "#E5ECF6",
           "caxis": {
            "gridcolor": "white",
            "linecolor": "white",
            "ticks": ""
           }
          },
          "title": {
           "x": 0.05
          },
          "xaxis": {
           "automargin": true,
           "gridcolor": "white",
           "linecolor": "white",
           "ticks": "",
           "title": {
            "standoff": 15
           },
           "zerolinecolor": "white",
           "zerolinewidth": 2
          },
          "yaxis": {
           "automargin": true,
           "gridcolor": "white",
           "linecolor": "white",
           "ticks": "",
           "title": {
            "standoff": 15
           },
           "zerolinecolor": "white",
           "zerolinewidth": 2
          }
         }
        },
        "title": {
         "text": "Confusion Matrix (counts) — XGB"
        },
        "xaxis": {
         "anchor": "y",
         "constrain": "domain",
         "domain": [
          0,
          1
         ],
         "scaleanchor": "y",
         "side": "top",
         "title": {
          "text": "Predicted label"
         }
        },
        "yaxis": {
         "anchor": "x",
         "autorange": "reversed",
         "constrain": "domain",
         "domain": [
          0,
          1
         ],
         "title": {
          "text": "True label"
         }
        }
       }
      }
     },
     "metadata": {},
     "output_type": "display_data"
    },
    {
     "name": "stdout",
     "output_type": "stream",
     "text": [
      "\n",
      "=== MLP ===\n",
      "              precision    recall  f1-score   support\n",
      "\n",
      "           0       0.93      0.92      0.93     46835\n",
      "           1       0.91      0.91      0.91     26665\n",
      "           2       0.86      0.87      0.86     34262\n",
      "\n",
      "    accuracy                           0.90    107762\n",
      "   macro avg       0.90      0.90      0.90    107762\n",
      "weighted avg       0.90      0.90      0.90    107762\n",
      "\n",
      "Accuracy: 0.902\n",
      "F1 (weighted): 0.902\n",
      "Precision (weighted): 0.903\n",
      "Recall (weighted): 0.902\n",
      "ROC-AUC (OVR if multiclass): 0.982\n"
     ]
    },
    {
     "data": {
      "application/vnd.plotly.v1+json": {
       "config": {
        "plotlyServerURL": "https://plot.ly"
       },
       "data": [
        {
         "coloraxis": "coloraxis",
         "hovertemplate": "x: %{x}<br>y: %{y}<br>color: %{z}<extra></extra>",
         "name": "0",
         "texttemplate": "%{z}",
         "type": "heatmap",
         "x": [
          "0",
          "1",
          "2"
         ],
         "xaxis": "x",
         "y": [
          "0",
          "1",
          "2"
         ],
         "yaxis": "y",
         "z": {
          "bdata": "zqgAAFoCAADLCwAASQIAAHheAABoBwAA6wkAAGAHAACLdAAA",
          "dtype": "i4",
          "shape": "3, 3"
         }
        }
       ],
       "layout": {
        "coloraxis": {
         "colorscale": [
          [
           0,
           "#0d0887"
          ],
          [
           0.1111111111111111,
           "#46039f"
          ],
          [
           0.2222222222222222,
           "#7201a8"
          ],
          [
           0.3333333333333333,
           "#9c179e"
          ],
          [
           0.4444444444444444,
           "#bd3786"
          ],
          [
           0.5555555555555556,
           "#d8576b"
          ],
          [
           0.6666666666666666,
           "#ed7953"
          ],
          [
           0.7777777777777778,
           "#fb9f3a"
          ],
          [
           0.8888888888888888,
           "#fdca26"
          ],
          [
           1,
           "#f0f921"
          ]
         ],
         "showscale": true
        },
        "template": {
         "data": {
          "bar": [
           {
            "error_x": {
             "color": "#2a3f5f"
            },
            "error_y": {
             "color": "#2a3f5f"
            },
            "marker": {
             "line": {
              "color": "#E5ECF6",
              "width": 0.5
             },
             "pattern": {
              "fillmode": "overlay",
              "size": 10,
              "solidity": 0.2
             }
            },
            "type": "bar"
           }
          ],
          "barpolar": [
           {
            "marker": {
             "line": {
              "color": "#E5ECF6",
              "width": 0.5
             },
             "pattern": {
              "fillmode": "overlay",
              "size": 10,
              "solidity": 0.2
             }
            },
            "type": "barpolar"
           }
          ],
          "carpet": [
           {
            "aaxis": {
             "endlinecolor": "#2a3f5f",
             "gridcolor": "white",
             "linecolor": "white",
             "minorgridcolor": "white",
             "startlinecolor": "#2a3f5f"
            },
            "baxis": {
             "endlinecolor": "#2a3f5f",
             "gridcolor": "white",
             "linecolor": "white",
             "minorgridcolor": "white",
             "startlinecolor": "#2a3f5f"
            },
            "type": "carpet"
           }
          ],
          "choropleth": [
           {
            "colorbar": {
             "outlinewidth": 0,
             "ticks": ""
            },
            "type": "choropleth"
           }
          ],
          "contour": [
           {
            "colorbar": {
             "outlinewidth": 0,
             "ticks": ""
            },
            "colorscale": [
             [
              0,
              "#0d0887"
             ],
             [
              0.1111111111111111,
              "#46039f"
             ],
             [
              0.2222222222222222,
              "#7201a8"
             ],
             [
              0.3333333333333333,
              "#9c179e"
             ],
             [
              0.4444444444444444,
              "#bd3786"
             ],
             [
              0.5555555555555556,
              "#d8576b"
             ],
             [
              0.6666666666666666,
              "#ed7953"
             ],
             [
              0.7777777777777778,
              "#fb9f3a"
             ],
             [
              0.8888888888888888,
              "#fdca26"
             ],
             [
              1,
              "#f0f921"
             ]
            ],
            "type": "contour"
           }
          ],
          "contourcarpet": [
           {
            "colorbar": {
             "outlinewidth": 0,
             "ticks": ""
            },
            "type": "contourcarpet"
           }
          ],
          "heatmap": [
           {
            "colorbar": {
             "outlinewidth": 0,
             "ticks": ""
            },
            "colorscale": [
             [
              0,
              "#0d0887"
             ],
             [
              0.1111111111111111,
              "#46039f"
             ],
             [
              0.2222222222222222,
              "#7201a8"
             ],
             [
              0.3333333333333333,
              "#9c179e"
             ],
             [
              0.4444444444444444,
              "#bd3786"
             ],
             [
              0.5555555555555556,
              "#d8576b"
             ],
             [
              0.6666666666666666,
              "#ed7953"
             ],
             [
              0.7777777777777778,
              "#fb9f3a"
             ],
             [
              0.8888888888888888,
              "#fdca26"
             ],
             [
              1,
              "#f0f921"
             ]
            ],
            "type": "heatmap"
           }
          ],
          "histogram": [
           {
            "marker": {
             "pattern": {
              "fillmode": "overlay",
              "size": 10,
              "solidity": 0.2
             }
            },
            "type": "histogram"
           }
          ],
          "histogram2d": [
           {
            "colorbar": {
             "outlinewidth": 0,
             "ticks": ""
            },
            "colorscale": [
             [
              0,
              "#0d0887"
             ],
             [
              0.1111111111111111,
              "#46039f"
             ],
             [
              0.2222222222222222,
              "#7201a8"
             ],
             [
              0.3333333333333333,
              "#9c179e"
             ],
             [
              0.4444444444444444,
              "#bd3786"
             ],
             [
              0.5555555555555556,
              "#d8576b"
             ],
             [
              0.6666666666666666,
              "#ed7953"
             ],
             [
              0.7777777777777778,
              "#fb9f3a"
             ],
             [
              0.8888888888888888,
              "#fdca26"
             ],
             [
              1,
              "#f0f921"
             ]
            ],
            "type": "histogram2d"
           }
          ],
          "histogram2dcontour": [
           {
            "colorbar": {
             "outlinewidth": 0,
             "ticks": ""
            },
            "colorscale": [
             [
              0,
              "#0d0887"
             ],
             [
              0.1111111111111111,
              "#46039f"
             ],
             [
              0.2222222222222222,
              "#7201a8"
             ],
             [
              0.3333333333333333,
              "#9c179e"
             ],
             [
              0.4444444444444444,
              "#bd3786"
             ],
             [
              0.5555555555555556,
              "#d8576b"
             ],
             [
              0.6666666666666666,
              "#ed7953"
             ],
             [
              0.7777777777777778,
              "#fb9f3a"
             ],
             [
              0.8888888888888888,
              "#fdca26"
             ],
             [
              1,
              "#f0f921"
             ]
            ],
            "type": "histogram2dcontour"
           }
          ],
          "mesh3d": [
           {
            "colorbar": {
             "outlinewidth": 0,
             "ticks": ""
            },
            "type": "mesh3d"
           }
          ],
          "parcoords": [
           {
            "line": {
             "colorbar": {
              "outlinewidth": 0,
              "ticks": ""
             }
            },
            "type": "parcoords"
           }
          ],
          "pie": [
           {
            "automargin": true,
            "type": "pie"
           }
          ],
          "scatter": [
           {
            "fillpattern": {
             "fillmode": "overlay",
             "size": 10,
             "solidity": 0.2
            },
            "type": "scatter"
           }
          ],
          "scatter3d": [
           {
            "line": {
             "colorbar": {
              "outlinewidth": 0,
              "ticks": ""
             }
            },
            "marker": {
             "colorbar": {
              "outlinewidth": 0,
              "ticks": ""
             }
            },
            "type": "scatter3d"
           }
          ],
          "scattercarpet": [
           {
            "marker": {
             "colorbar": {
              "outlinewidth": 0,
              "ticks": ""
             }
            },
            "type": "scattercarpet"
           }
          ],
          "scattergeo": [
           {
            "marker": {
             "colorbar": {
              "outlinewidth": 0,
              "ticks": ""
             }
            },
            "type": "scattergeo"
           }
          ],
          "scattergl": [
           {
            "marker": {
             "colorbar": {
              "outlinewidth": 0,
              "ticks": ""
             }
            },
            "type": "scattergl"
           }
          ],
          "scattermap": [
           {
            "marker": {
             "colorbar": {
              "outlinewidth": 0,
              "ticks": ""
             }
            },
            "type": "scattermap"
           }
          ],
          "scattermapbox": [
           {
            "marker": {
             "colorbar": {
              "outlinewidth": 0,
              "ticks": ""
             }
            },
            "type": "scattermapbox"
           }
          ],
          "scatterpolar": [
           {
            "marker": {
             "colorbar": {
              "outlinewidth": 0,
              "ticks": ""
             }
            },
            "type": "scatterpolar"
           }
          ],
          "scatterpolargl": [
           {
            "marker": {
             "colorbar": {
              "outlinewidth": 0,
              "ticks": ""
             }
            },
            "type": "scatterpolargl"
           }
          ],
          "scatterternary": [
           {
            "marker": {
             "colorbar": {
              "outlinewidth": 0,
              "ticks": ""
             }
            },
            "type": "scatterternary"
           }
          ],
          "surface": [
           {
            "colorbar": {
             "outlinewidth": 0,
             "ticks": ""
            },
            "colorscale": [
             [
              0,
              "#0d0887"
             ],
             [
              0.1111111111111111,
              "#46039f"
             ],
             [
              0.2222222222222222,
              "#7201a8"
             ],
             [
              0.3333333333333333,
              "#9c179e"
             ],
             [
              0.4444444444444444,
              "#bd3786"
             ],
             [
              0.5555555555555556,
              "#d8576b"
             ],
             [
              0.6666666666666666,
              "#ed7953"
             ],
             [
              0.7777777777777778,
              "#fb9f3a"
             ],
             [
              0.8888888888888888,
              "#fdca26"
             ],
             [
              1,
              "#f0f921"
             ]
            ],
            "type": "surface"
           }
          ],
          "table": [
           {
            "cells": {
             "fill": {
              "color": "#EBF0F8"
             },
             "line": {
              "color": "white"
             }
            },
            "header": {
             "fill": {
              "color": "#C8D4E3"
             },
             "line": {
              "color": "white"
             }
            },
            "type": "table"
           }
          ]
         },
         "layout": {
          "annotationdefaults": {
           "arrowcolor": "#2a3f5f",
           "arrowhead": 0,
           "arrowwidth": 1
          },
          "autotypenumbers": "strict",
          "coloraxis": {
           "colorbar": {
            "outlinewidth": 0,
            "ticks": ""
           }
          },
          "colorscale": {
           "diverging": [
            [
             0,
             "#8e0152"
            ],
            [
             0.1,
             "#c51b7d"
            ],
            [
             0.2,
             "#de77ae"
            ],
            [
             0.3,
             "#f1b6da"
            ],
            [
             0.4,
             "#fde0ef"
            ],
            [
             0.5,
             "#f7f7f7"
            ],
            [
             0.6,
             "#e6f5d0"
            ],
            [
             0.7,
             "#b8e186"
            ],
            [
             0.8,
             "#7fbc41"
            ],
            [
             0.9,
             "#4d9221"
            ],
            [
             1,
             "#276419"
            ]
           ],
           "sequential": [
            [
             0,
             "#0d0887"
            ],
            [
             0.1111111111111111,
             "#46039f"
            ],
            [
             0.2222222222222222,
             "#7201a8"
            ],
            [
             0.3333333333333333,
             "#9c179e"
            ],
            [
             0.4444444444444444,
             "#bd3786"
            ],
            [
             0.5555555555555556,
             "#d8576b"
            ],
            [
             0.6666666666666666,
             "#ed7953"
            ],
            [
             0.7777777777777778,
             "#fb9f3a"
            ],
            [
             0.8888888888888888,
             "#fdca26"
            ],
            [
             1,
             "#f0f921"
            ]
           ],
           "sequentialminus": [
            [
             0,
             "#0d0887"
            ],
            [
             0.1111111111111111,
             "#46039f"
            ],
            [
             0.2222222222222222,
             "#7201a8"
            ],
            [
             0.3333333333333333,
             "#9c179e"
            ],
            [
             0.4444444444444444,
             "#bd3786"
            ],
            [
             0.5555555555555556,
             "#d8576b"
            ],
            [
             0.6666666666666666,
             "#ed7953"
            ],
            [
             0.7777777777777778,
             "#fb9f3a"
            ],
            [
             0.8888888888888888,
             "#fdca26"
            ],
            [
             1,
             "#f0f921"
            ]
           ]
          },
          "colorway": [
           "#636efa",
           "#EF553B",
           "#00cc96",
           "#ab63fa",
           "#FFA15A",
           "#19d3f3",
           "#FF6692",
           "#B6E880",
           "#FF97FF",
           "#FECB52"
          ],
          "font": {
           "color": "#2a3f5f"
          },
          "geo": {
           "bgcolor": "white",
           "lakecolor": "white",
           "landcolor": "#E5ECF6",
           "showlakes": true,
           "showland": true,
           "subunitcolor": "white"
          },
          "hoverlabel": {
           "align": "left"
          },
          "hovermode": "closest",
          "mapbox": {
           "style": "light"
          },
          "paper_bgcolor": "white",
          "plot_bgcolor": "#E5ECF6",
          "polar": {
           "angularaxis": {
            "gridcolor": "white",
            "linecolor": "white",
            "ticks": ""
           },
           "bgcolor": "#E5ECF6",
           "radialaxis": {
            "gridcolor": "white",
            "linecolor": "white",
            "ticks": ""
           }
          },
          "scene": {
           "xaxis": {
            "backgroundcolor": "#E5ECF6",
            "gridcolor": "white",
            "gridwidth": 2,
            "linecolor": "white",
            "showbackground": true,
            "ticks": "",
            "zerolinecolor": "white"
           },
           "yaxis": {
            "backgroundcolor": "#E5ECF6",
            "gridcolor": "white",
            "gridwidth": 2,
            "linecolor": "white",
            "showbackground": true,
            "ticks": "",
            "zerolinecolor": "white"
           },
           "zaxis": {
            "backgroundcolor": "#E5ECF6",
            "gridcolor": "white",
            "gridwidth": 2,
            "linecolor": "white",
            "showbackground": true,
            "ticks": "",
            "zerolinecolor": "white"
           }
          },
          "shapedefaults": {
           "line": {
            "color": "#2a3f5f"
           }
          },
          "ternary": {
           "aaxis": {
            "gridcolor": "white",
            "linecolor": "white",
            "ticks": ""
           },
           "baxis": {
            "gridcolor": "white",
            "linecolor": "white",
            "ticks": ""
           },
           "bgcolor": "#E5ECF6",
           "caxis": {
            "gridcolor": "white",
            "linecolor": "white",
            "ticks": ""
           }
          },
          "title": {
           "x": 0.05
          },
          "xaxis": {
           "automargin": true,
           "gridcolor": "white",
           "linecolor": "white",
           "ticks": "",
           "title": {
            "standoff": 15
           },
           "zerolinecolor": "white",
           "zerolinewidth": 2
          },
          "yaxis": {
           "automargin": true,
           "gridcolor": "white",
           "linecolor": "white",
           "ticks": "",
           "title": {
            "standoff": 15
           },
           "zerolinecolor": "white",
           "zerolinewidth": 2
          }
         }
        },
        "title": {
         "text": "Confusion Matrix (counts) — MLP"
        },
        "xaxis": {
         "anchor": "y",
         "constrain": "domain",
         "domain": [
          0,
          1
         ],
         "scaleanchor": "y",
         "side": "top",
         "title": {
          "text": "Predicted label"
         }
        },
        "yaxis": {
         "anchor": "x",
         "autorange": "reversed",
         "constrain": "domain",
         "domain": [
          0,
          1
         ],
         "title": {
          "text": "True label"
         }
        }
       }
      }
     },
     "metadata": {},
     "output_type": "display_data"
    },
    {
     "name": "stdout",
     "output_type": "stream",
     "text": [
      "\n",
      "=== Model Comparison ===\n"
     ]
    },
    {
     "data": {
      "text/html": [
       "<div>\n",
       "<style scoped>\n",
       "    .dataframe tbody tr th:only-of-type {\n",
       "        vertical-align: middle;\n",
       "    }\n",
       "\n",
       "    .dataframe tbody tr th {\n",
       "        vertical-align: top;\n",
       "    }\n",
       "\n",
       "    .dataframe thead th {\n",
       "        text-align: right;\n",
       "    }\n",
       "</style>\n",
       "<table border=\"1\" class=\"dataframe\">\n",
       "  <thead>\n",
       "    <tr style=\"text-align: right;\">\n",
       "      <th></th>\n",
       "      <th>model</th>\n",
       "      <th>accuracy</th>\n",
       "      <th>f1</th>\n",
       "      <th>precision</th>\n",
       "      <th>recall</th>\n",
       "      <th>roc_auc</th>\n",
       "    </tr>\n",
       "  </thead>\n",
       "  <tbody>\n",
       "    <tr>\n",
       "      <th>1</th>\n",
       "      <td>XGB</td>\n",
       "      <td>0.928110</td>\n",
       "      <td>0.928746</td>\n",
       "      <td>0.931361</td>\n",
       "      <td>0.928110</td>\n",
       "      <td>0.990276</td>\n",
       "    </tr>\n",
       "    <tr>\n",
       "      <th>2</th>\n",
       "      <td>MLP</td>\n",
       "      <td>0.902294</td>\n",
       "      <td>0.902437</td>\n",
       "      <td>0.902631</td>\n",
       "      <td>0.902294</td>\n",
       "      <td>0.982426</td>\n",
       "    </tr>\n",
       "    <tr>\n",
       "      <th>0</th>\n",
       "      <td>LogReg</td>\n",
       "      <td>0.898239</td>\n",
       "      <td>0.897514</td>\n",
       "      <td>0.898399</td>\n",
       "      <td>0.898239</td>\n",
       "      <td>0.983478</td>\n",
       "    </tr>\n",
       "  </tbody>\n",
       "</table>\n",
       "</div>"
      ],
      "text/plain": [
       "    model  accuracy        f1  precision    recall   roc_auc\n",
       "1     XGB  0.928110  0.928746   0.931361  0.928110  0.990276\n",
       "2     MLP  0.902294  0.902437   0.902631  0.902294  0.982426\n",
       "0  LogReg  0.898239  0.897514   0.898399  0.898239  0.983478"
      ]
     },
     "metadata": {},
     "output_type": "display_data"
    }
   ],
   "source": [
    "# =============================\n",
    "# Models & training\n",
    "# =============================\n",
    "classes = np.unique(y_tr)  # use training classes\n",
    "n_classes = len(classes)\n",
    "if n_classes < 2:\n",
    "    raise RuntimeError(f\"Need at least two classes after dropping label 3; got classes={classes}.\")\n",
    "is_multiclass = n_classes > 2\n",
    "models = make_models(n_classes, is_multiclass)\n",
    "\n",
    "results = []\n",
    "for name, clf in models.items():\n",
    "    pipe = Pipeline([(\"pre\", pre), (\"clf\", clf)]).fit(X_tr, y_tr)\n",
    "    y_pred = pipe.predict(X_te)\n",
    "\n",
    "    avg = \"weighted\" if is_multiclass else \"binary\"\n",
    "    acc = accuracy_score(y_te, y_pred)\n",
    "    f1  = f1_score(y_te, y_pred, average=avg, zero_division=0)\n",
    "    pre_s = precision_score(y_te, y_pred, average=avg, zero_division=0)\n",
    "    rec = recall_score(y_te, y_pred, average=avg, zero_division=0)\n",
    "\n",
    "    roc = None\n",
    "    if hasattr(pipe, \"predict_proba\"):\n",
    "        proba = pipe.predict_proba(X_te)\n",
    "        if is_multiclass:\n",
    "            roc = roc_auc_score(y_te, proba, multi_class=\"ovr\", average=\"weighted\")\n",
    "        else:\n",
    "            roc = roc_auc_score(y_te, proba[:, 1])\n",
    "    elif hasattr(pipe, \"decision_function\"):\n",
    "        score = pipe.decision_function(X_te)\n",
    "        if is_multiclass and getattr(score, \"ndim\", 1) > 1:\n",
    "            roc = roc_auc_score(y_te, score, multi_class=\"ovr\", average=\"weighted\")\n",
    "        else:\n",
    "            roc = roc_auc_score(y_te, score)\n",
    "\n",
    "    print(f\"\\n=== {name} ===\")\n",
    "    print(classification_report(y_te, y_pred, zero_division=0))\n",
    "    print(f\"Accuracy: {acc:.3f}\")\n",
    "    print(f\"F1 ({avg}): {f1:.3f}\")\n",
    "    print(f\"Precision ({avg}): {pre_s:.3f}\")\n",
    "    print(f\"Recall ({avg}): {rec:.3f}\")\n",
    "    if roc is not None:\n",
    "        print(f\"ROC-AUC (OVR if multiclass): {roc:.3f}\")\n",
    "\n",
    "    # Confusion Matrix (counts) via Plotly\n",
    "    cm = confusion_matrix(y_te, y_pred, labels=classes)\n",
    "    fig = px.imshow(\n",
    "        cm,\n",
    "        x=[str(c) for c in classes],   # predicted\n",
    "        y=[str(c) for c in classes],   # true\n",
    "        text_auto=True,\n",
    "        aspect=\"equal\",\n",
    "        title=f\"Confusion Matrix (counts) — {name}\",\n",
    "    )\n",
    "    fig.update_layout(xaxis_title=\"Predicted label\", yaxis_title=\"True label\", coloraxis_showscale=True)\n",
    "    fig.update_xaxes(side=\"top\")\n",
    "    fig.show()\n",
    "\n",
    "    results.append({\"model\": name, \"accuracy\": acc, \"f1\": f1, \"precision\": pre_s, \"recall\": rec, \"roc_auc\": roc})\n",
    "\n",
    "results_df = pd.DataFrame(results).sort_values(by=[\"f1\",\"accuracy\"], ascending=False)\n",
    "print(\"\\n=== Model Comparison ===\")\n",
    "try:\n",
    "    display(results_df)\n",
    "except NameError:\n",
    "    print(results_df)"
   ]
  },
  {
   "cell_type": "code",
   "execution_count": null,
   "id": "77f7e634",
   "metadata": {},
   "outputs": [
    {
     "name": "stdout",
     "output_type": "stream",
     "text": [
      "\n",
      "Best model by F1 score: XGB (F1=0.929)\n",
      "Saved best model pipeline to: Models\\best_model_XGB.pkl\n"
     ]
    }
   ],
   "source": [
    "# -----------------------------\n",
    "# Save best-by-F1 model (picklable) -> Models/\n",
    "# -----------------------------\n",
    "best_row  = results_df.iloc[0]\n",
    "best_name = str(best_row[\"model\"])\n",
    "print(f\"\\nBest model by F1 score: {best_name} (F1={best_row['f1']:.3f})\")\n",
    "\n",
    "best_clf  = models[best_name]\n",
    "best_pipe = Pipeline([(\"pre\", pre), (\"clf\", best_clf)]).fit(X_tr, y_tr)\n",
    "\n",
    "models_dir = \"Models/Classification_Model\"\n",
    "os.makedirs(models_dir, exist_ok=True)\n",
    "pkl_path = os.path.join(models_dir, f\"best_model_{best_name}.pkl\")\n",
    "\n",
    "with open(pkl_path, \"wb\") as f:\n",
    "    pickle.dump(best_pipe, f)\n",
    "\n",
    "print(f\"Saved best model pipeline to: {pkl_path}\")"
   ]
  },
  {
   "cell_type": "code",
   "execution_count": null,
   "id": "eb0ad07f",
   "metadata": {},
   "outputs": [
    {
     "name": "stdout",
     "output_type": "stream",
     "text": [
      "[saved] merged dataset -> D:/HealthAI Project/data\\Merged\\healthai_merged_dataset.csv  (rows=539679, cols=143)\n"
     ]
    }
   ],
   "source": [
    "# 1) Choose a sensible column order for readability\n",
    "first_cols = [c for c in [\"subject_id\", \"hadm_id\", \"admittime\", \"dischtime\",\n",
    "                          \"los_days\", \"sex\", \"age_at_admit\", \"insurance\", \"language\",\n",
    "                          \"label_disease\"] if c in df.columns]\n",
    "other_cols = [c for c in df.columns if c not in first_cols]\n",
    "df_ordered = df[first_cols + other_cols]\n",
    "\n",
    "# 2) Create an output folder\n",
    "OUT_DIR = os.path.join(DATA_BASE, \"Merged\")\n",
    "os.makedirs(OUT_DIR, exist_ok=True)\n",
    "\n",
    "# 3) Save the fully merged dataset (one CSV containing all required inputs merged as one)\n",
    "merged_path = os.path.join(OUT_DIR, \"classification_test_data.csv\")\n",
    "df_ordered.to_csv(merged_path, index=False)\n",
    "print(f\"[saved] merged dataset -> {merged_path}  (rows={len(df_ordered)}, cols={df_ordered.shape[1]})\")"
   ]
  }
 ],
 "metadata": {
  "kernelspec": {
   "display_name": "Python 3",
   "language": "python",
   "name": "python3"
  },
  "language_info": {
   "codemirror_mode": {
    "name": "ipython",
    "version": 3
   },
   "file_extension": ".py",
   "mimetype": "text/x-python",
   "name": "python",
   "nbconvert_exporter": "python",
   "pygments_lexer": "ipython3",
   "version": "3.10.10"
  }
 },
 "nbformat": 4,
 "nbformat_minor": 5
}
