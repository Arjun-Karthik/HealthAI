{
  "cells": [
    {
      "cell_type": "markdown",
      "metadata": {},
      "source": [
        "# 09 - Tracking & Deploy (v7)\n"
      ]
    },
    {
      "cell_type": "code",
      "execution_count": 1,
      "metadata": {},
      "outputs": [
        {
          "name": "stderr",
          "output_type": "stream",
          "text": [
            "2025/10/04 03:51:59 INFO mlflow.tracking.fluent: Experiment with name 'healthai_suite_v7' does not exist. Creating a new experiment.\n"
          ]
        },
        {
          "name": "stdout",
          "output_type": "stream",
          "text": [
            "Logged to MLflow.\n"
          ]
        }
      ],
      "source": [
        "try:\n",
        "    import mlflow\n",
        "    mlflow.set_experiment(\"healthai_suite_v7\")\n",
        "    with mlflow.start_run(run_name=\"demo\"):\n",
        "        mlflow.log_param(\"version\",\"v7\")\n",
        "        mlflow.log_metric(\"metric_example\", 0.9)\n",
        "        print(\"Logged to MLflow.\")\n",
        "except Exception as e:\n",
        "    print(\"MLflow not available:\", e)\n"
      ]
    },
    {
      "cell_type": "markdown",
      "metadata": {},
      "source": [
        "## SHAP (optional)\n"
      ]
    },
    {
      "cell_type": "code",
      "execution_count": 2,
      "metadata": {},
      "outputs": [
        {
          "name": "stdout",
          "output_type": "stream",
          "text": [
            "Computed SHAP values: [(30, 2), (30, 2), (30, 2), (30, 2), (30, 2), (30, 2), (30, 2), (30, 2), (30, 2), (30, 2), (30, 2), (30, 2), (30, 2), (30, 2), (30, 2), (30, 2), (30, 2), (30, 2), (30, 2), (30, 2), (30, 2), (30, 2), (30, 2), (30, 2), (30, 2), (30, 2), (30, 2), (30, 2), (30, 2), (30, 2), (30, 2), (30, 2), (30, 2), (30, 2), (30, 2), (30, 2), (30, 2), (30, 2), (30, 2), (30, 2), (30, 2), (30, 2), (30, 2), (30, 2), (30, 2), (30, 2), (30, 2), (30, 2), (30, 2), (30, 2), (30, 2), (30, 2), (30, 2), (30, 2), (30, 2), (30, 2), (30, 2), (30, 2), (30, 2), (30, 2), (30, 2), (30, 2), (30, 2), (30, 2), (30, 2), (30, 2), (30, 2), (30, 2), (30, 2), (30, 2), (30, 2), (30, 2), (30, 2), (30, 2), (30, 2), (30, 2), (30, 2), (30, 2), (30, 2), (30, 2), (30, 2), (30, 2), (30, 2), (30, 2), (30, 2), (30, 2), (30, 2), (30, 2), (30, 2), (30, 2), (30, 2), (30, 2), (30, 2), (30, 2), (30, 2), (30, 2), (30, 2), (30, 2), (30, 2), (30, 2)]\n"
          ]
        }
      ],
      "source": [
        "try:\n",
        "    import shap\n",
        "    from sklearn.datasets import load_breast_cancer\n",
        "    from sklearn.ensemble import RandomForestClassifier\n",
        "    data = load_breast_cancer()\n",
        "    X, y = data.data, data.target\n",
        "    rf = RandomForestClassifier(n_estimators=100, random_state=42).fit(X,y)\n",
        "    explainer = shap.TreeExplainer(rf)\n",
        "    shap_values = explainer.shap_values(X[:100])\n",
        "    print(\"Computed SHAP values:\", [sv.shape for sv in shap_values])\n",
        "except Exception as e:\n",
        "    print(\"SHAP not available:\", e)\n"
      ]
    }
  ],
  "metadata": {
    "kernelspec": {
      "display_name": "Python 3",
      "language": "python",
      "name": "python3"
    },
    "language_info": {
      "codemirror_mode": {
        "name": "ipython",
        "version": 3
      },
      "file_extension": ".py",
      "mimetype": "text/x-python",
      "name": "python",
      "nbconvert_exporter": "python",
      "pygments_lexer": "ipython3",
      "version": "3.10.10"
    }
  },
  "nbformat": 4,
  "nbformat_minor": 5
}
